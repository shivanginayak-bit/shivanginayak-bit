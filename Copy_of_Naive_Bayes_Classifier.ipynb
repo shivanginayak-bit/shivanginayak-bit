{
  "nbformat": 4,
  "nbformat_minor": 0,
  "metadata": {
    "kernelspec": {
      "display_name": "Python 3",
      "language": "python",
      "name": "python3"
    },
    "language_info": {
      "codemirror_mode": {
        "name": "ipython",
        "version": 3
      },
      "file_extension": ".py",
      "mimetype": "text/x-python",
      "name": "python",
      "nbconvert_exporter": "python",
      "pygments_lexer": "ipython3",
      "version": "3.7.1"
    },
    "colab": {
      "provenance": [],
      "include_colab_link": true
    }
  },
  "cells": [
    {
      "cell_type": "markdown",
      "metadata": {
        "id": "view-in-github",
        "colab_type": "text"
      },
      "source": [
        "<a href=\"https://colab.research.google.com/github/shivanginayak-bit/shivanginayak-bit/blob/main/Copy_of_Naive_Bayes_Classifier.ipynb\" target=\"_parent\"><img src=\"https://colab.research.google.com/assets/colab-badge.svg\" alt=\"Open In Colab\"/></a>"
      ]
    },
    {
      "cell_type": "markdown",
      "metadata": {
        "id": "JI1a1HXMjCxF"
      },
      "source": [
        "# <b> <u>Introduction: What is Naive Bayes Classifier? </u></b>\n",
        "\n",
        "### Naive Bayes models are a group of extremely fast and simple classification algorithms that are often suitable for very high-dimensional datasets. Because they are so fast and have so few tunable parameters, they end up being very useful as a quick-and-dirty baseline for a classification problem.\n",
        "\n",
        "\n",
        "### Naive Bayes classifiers are built on Bayesian classification methods. These rely on Bayes's theorem, which is an equation describing the relationship of conditional probabilities of statistical quantities. In Bayesian classification, we're interested in finding the probability of a label given some observed features, which we can write as P(L | features). Bayes's theorem tells us how to express this in terms of quantities we can compute more directly:\n",
        "\n",
        "### $P(L ~|~ \\rm features)=\\frac{P(\\rm features ~|~ L) P(L)}{P(\\rm features)}$\n",
        "\n",
        "### If we are trying to decide between two labels—let's call them $L_1$ and $L_2$—then one way to make this decision is to compute the ratio of the posterior probabilities for each label:\n",
        "\n",
        "# $\\frac{P(L_1 ~|~ \\rm features)}{P(L_2 ~|~ \\rm features) }= \\frac{P(\\rm features ~|~ L_1)}{P(\\rm features ~|~ L_2)}\\frac{P(L_1)}{P(L_2)}$\n",
        "\n",
        "P(L1|X)/P(L2|X) > 1 ? P(L1|X) > P(L2|X), You will assign the L1 label in the Prediction\n",
        "P(L1|x)/P(L2|x) < 1 ? P(L1|X) < P(L2|X), You will assign the L2 label in the Prediction\n",
        "\n",
        "### All we need now is some model by which we can compute $P(\\rm features~|~ L)$ for each label. Such a model is called a generative model because it specifies the hypothetical random process that generates the data. Specifying this generative model for each label is the main piece of the training of such a Bayesian classifier. The general version of such a training step is a very difficult task, but we can make it simpler through the use of some simplifying assumptions about the form of this model.\n",
        "\n",
        "### The posterior probability can be written as :\n",
        "\n",
        "# $P(Y ~|~X) = P(y)P(x_1|y)P(x_2|y,x_1)....P(x_n|y,x_1,...,x_{n-1})$\n",
        "\n",
        "### Assuming all the X are conditionally independent\n",
        "# $P(Y=1|X) = \\frac{P(y=1)P(x_1|y=1)....P(x_n|y=1)}{P(X)}$\n",
        "\n",
        "# $P(Y=0|X) = \\frac{P(y=0)P(x_1|y=0)....P(x_n|y=0)}{P(X)}$\n",
        "\n",
        "\n",
        "# $\\frac{P(Y=0|X)}{$P(Y=1|X)} = \\frac{P(y=0)P(x_1|y=0)....P(x_n|y=0)}{P(y=1)P(x_1|y=1)....P(x_n|y=1)}$\n",
        "\n",
        "### This is where the \"naive\" in \"naive Bayes\" comes in: if we make very naive assumptions about the generative model for each label, we can find a rough approximation of the generative model for each class, and then proceed with the Bayesian classification. Different types of naive Bayes classifiers rest on different naive assumptions about the data, and we will examine a few of these in the following sections.\n"
      ]
    },
    {
      "cell_type": "markdown",
      "source": [
        "  X1 X2 X3 X4 X5 X6 Y\n",
        "1  9                 1\n",
        "2  9                1\n",
        "3  8                0\n",
        "4  8                0\n",
        "5  8                1\n",
        "6  9                0\n",
        "7  9                1\n",
        "8  9                1\n",
        "\n",
        "P  9                ?\n",
        "\n",
        "P(Y=1) = 5/8\n",
        "P(Y=0) = 3/8\n",
        "P(X1 = 9 |Y=1) = 4/5\n",
        "P(X1 = 8 |Y=1) = 1/5\n",
        "P(X1 = 9 |Y=0) = 1/3\n",
        "P(X1 = 8 |Y=0) = 2/3\n",
        "\n",
        "P(Y=1|X1=9)/P(Y=0 | X1=9) = P(X1=9 | Y =1 ) * P(Y=1) / P(X1=9 | Y =0 ) * P(Y=0)\n",
        "\n",
        "\n",
        "P(1)/P(2) & P(1)/P(3) & P(2)/P(3)"
      ],
      "metadata": {
        "id": "tQPUE-24vV2y"
      }
    },
    {
      "cell_type": "code",
      "metadata": {
        "id": "d-ww68tMgmEV"
      },
      "source": [
        "%matplotlib inline\n",
        "import numpy as np\n",
        "import matplotlib.pyplot as plt\n",
        "import seaborn as sns; sns.set()"
      ],
      "execution_count": null,
      "outputs": []
    },
    {
      "cell_type": "markdown",
      "metadata": {
        "id": "ErujlooIgpcl"
      },
      "source": [
        "## Perhaps the easiest naive Bayes classifier to understand is Gaussian naive Bayes. In this classifier, the assumption is that data from each label is drawn from a simple Gaussian distribution. Imagine that you have the following data:"
      ]
    },
    {
      "cell_type": "code",
      "metadata": {
        "colab": {
          "base_uri": "https://localhost:8080/",
          "height": 434
        },
        "id": "oRyazyfhgt1z",
        "outputId": "2eeb7b51-efd0-4e61-ef00-ab1cf3f4075f"
      },
      "source": [
        "from sklearn.datasets import make_blobs\n",
        "X, y = make_blobs(100, 2, centers=2, random_state=2, cluster_std=1.5)\n",
        "plt.scatter(X[:, 0], X[:, 1], c=y, s=50, cmap='RdBu');"
      ],
      "execution_count": null,
      "outputs": [
        {
          "output_type": "display_data",
          "data": {
            "text/plain": [
              "<Figure size 640x480 with 1 Axes>"
            ],
            "image/png": "[encoded data removed]"
          },
          "metadata": {}
        }
      ]
    },
    {
      "cell_type": "markdown",
      "metadata": {
        "id": "7ekUyP2-gxr4"
      },
      "source": [
        "## One extremely fast way to create a simple model is to assume that the data is described by a Gaussian distribution with no covariance between dimensions. This model can be fit by simply finding the mean and standard deviation of the points within each label, which is all you need to define such a distribution. The result of this naive Gaussian assumption is shown in the following figure:"
      ]
    },
    {
      "cell_type": "code",
      "metadata": {
        "colab": {
          "base_uri": "https://localhost:8080/",
          "height": 476
        },
        "id": "SnHOU84Qg5j9",
        "outputId": "24bc70de-4150-44b9-e502-9adc529ea045"
      },
      "source": [
        "X, y = make_blobs(100, 2, centers=2, random_state=2, cluster_std=1.5)\n",
        "\n",
        "fig, ax = plt.subplots()\n",
        "\n",
        "ax.scatter(X[:, 0], X[:, 1], c=y, s=50, cmap='RdBu')\n",
        "ax.set_title('Naive Bayes Model', size=14)\n",
        "\n",
        "xlim = (-8, 8)\n",
        "ylim = (-15, 5)\n",
        "\n",
        "xg = np.linspace(xlim[0], xlim[1], 60)\n",
        "yg = np.linspace(ylim[0], ylim[1], 40)\n",
        "xx, yy = np.meshgrid(xg, yg)\n",
        "Xgrid = np.vstack([xx.ravel(), yy.ravel()]).T\n",
        "\n",
        "for label, color in enumerate(['red', 'blue']):\n",
        "    mask = (y == label)\n",
        "    mu, std = X[mask].mean(0), X[mask].std(0)\n",
        "    P = np.exp(-0.5 * (Xgrid - mu) ** 2 / std ** 2).prod(1)\n",
        "    Pm = np.ma.masked_array(P, P < 0.03)\n",
        "    ax.pcolorfast(xg, yg, Pm.reshape(xx.shape), alpha=0.5,\n",
        "                  cmap=color.title() + 's')\n",
        "    ax.contour(xx, yy, P.reshape(xx.shape),\n",
        "               levels=[0.01, 0.1, 0.5, 0.9],\n",
        "               colors=color, alpha=0.2)\n",
        "\n",
        "ax.set(xlim=xlim, ylim=ylim)"
      ],
      "execution_count": null,
      "outputs": [
        {
          "output_type": "execute_result",
          "data": {
            "text/plain": [
              "[(-8.0, 8.0), (-15.0, 5.0)]"
            ]
          },
          "metadata": {},
          "execution_count": 4
        },
        {
          "output_type": "display_data",
          "data": {
            "text/plain": [
              "<Figure size 640x480 with 1 Axes>"
            ],
            "image/png": "[encoded data removed]"
          },
          "metadata": {}
        }
      ]
    },
    {
      "cell_type": "markdown",
      "metadata": {
        "id": "tpPnuL4ghD22"
      },
      "source": [
        "## The ellipses here represent the Gaussian generative model for each label, with larger probability toward the center of the ellipses. With this generative model in place for each class, we have a simple recipe to compute the likelihood $P({\\rm features}~|~L_1)$ for any data point, and thus we can quickly compute the posterior ratio and determine which label is the most probable for a given point."
      ]
    },
    {
      "cell_type": "markdown",
      "metadata": {
        "id": "CN7ARNWTgRUW"
      },
      "source": [
        "# <b><u> Generative vs Discriminative Model </u></b>\n",
        "\n"
      ]
    },
    {
      "cell_type": "markdown",
      "metadata": {
        "id": "Qu_sZI2Mnr-y"
      },
      "source": [
        "## Suppose we are solving a classification problem to decide if an email is spam or not based on the words in the email. We have a joint model over labels Y=y, and features $X={x_1, x_2, …x_n}$. The joint distribution of the model can be represented as $p(Y , X) = P(y, x_1,x_2…x_n)$. Our goal is to estimate the probability of spam email: $P(Y=1~|~X)$. Both generative and discriminative models can solve this problem, but in different ways.\n",
        "\n",
        "## Let’s see why and how they are different!\n",
        "\n",
        "## To get the conditional probability $P(Y~|~X)$, generative models estimate the prior P(Y) and likelihood $P(X~|~Y)$ from training data and use Bayes rule to calculate the posterior $P(Y ~|~X)$:\n",
        "\n",
        "## <b> $P(Y~|~X) = \\frac{P(X ~|~Y) P(Y)}{P(X)}$\n",
        "\n",
        "## <b> $\\rm posterior = \\frac{\\rm prior ~*~ \\rm likelihood}{evidence}$ </b>\n",
        "\n",
        "## On the other hand, discriminative models directly assume functional form for $P(Y~|~X)$ and estimate parameters of $P(Y~|~X)$ directly from training data."
      ]
    },
    {
      "cell_type": "markdown",
      "metadata": {
        "id": "U61H2pMvqaf6"
      },
      "source": [
        "![Generative vs Discriminative.PNG](data:image/png;base64,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)"
      ]
    },
    {
      "cell_type": "markdown",
      "metadata": {
        "id": "k_FkbH7ZkMXq"
      },
      "source": [
        "## The graph above shows the difference in the structures of generative and discriminative models. The circles represent variable(s) and the direction of the lines indicates what probabilities we can infer. In our spam classification problem, we are given $X$: the words in the emails, and Y is unknown. We see that the arrow in the discriminative model graph(right) is pointing from X to Y, indicating that we can infer $P(Y~~X)$ directly from the given $X$. However, the arrow in the generative model graph(left) is pointing towards the opposite direction, which means we need to infer the values of $P(Y)$ and $P(X~|~Y)$ from the data first and use them to calculate $P(Y~|~X)$."
      ]
    },
    {
      "cell_type": "markdown",
      "metadata": {
        "id": "ZgoSe32Hge31"
      },
      "source": [
        "![Gen vs Dis.png](data:image/png;base64,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)"
      ]
    },
    {
      "cell_type": "markdown",
      "metadata": {
        "id": "uPTj5m_qrYK5"
      },
      "source": [
        "# <b><u> Generative Models </u></b>\n",
        "## Generative models are models where the focus is the distribution of individual classes in a dataset and the learning algorithms tend to model the underlying patterns/distribution of the data points. These models use the intuition of joint probability in theory, creating instances where a given feature (x)/input and the desired output/label (y) exist at the same time.\n",
        "\n",
        "## Generative models use probability estimates and likelihood to model data points and distinguish between different class labels in a dataset. These models are capable of generating new data instances. However, they also have a major drawback. The presence of outliers affects these models to a significant extent.\n",
        "\n",
        "## Examples of generative models :\n",
        "* ### Naive Bayes Classifier\n",
        "* ### Hidden Markov Model\n",
        "* ### Linear Discriminant Analysis"
      ]
    },
    {
      "cell_type": "markdown",
      "metadata": {
        "id": "PSZeTZxiroSV"
      },
      "source": [
        "# <b><u> Discriminative Models </u></b>\n",
        "\n",
        "## Discriminative models, also called conditional models, tend to learn the boundary between classes/labels in a dataset. Unlike generative models, the goal here is to find the decision boundary separating one class from another.So while a generative model will tend to model the joint probability of data points and is capable of creating new instances using probability estimates and maximum likelihood, discriminative models (just as in the literal meaning) separate classes by rather modeling the conditional probability and do not make any assumptions about the data point. They are also not capable of generating new data instances.Discriminative models have the advantage of being more robust to outliers, unlike the generative models.\n",
        "\n",
        "## Examples of discriminative models :\n",
        "* ### Logistic Regression\n",
        "* ### Support Vector Machine\n",
        "* ### Decision Trees"
      ]
    },
    {
      "cell_type": "markdown",
      "metadata": {
        "id": "Tr5bpnxPsCuj"
      },
      "source": [
        "# <b><u> Comparison between the two class of models </u></b>\n",
        "\n",
        "## <b> Accuracy </b>\n",
        "* ### Generative models are less accurate than discriminative models when the assumption of conditional independence is not satisfied. For example, in our spam classification problem, let $x_1$ = number of times “bank” appear in the email data, and $x_2$ = number of times “account” appear in the email. Regardless of whether spam, these two words always appear together, i.e. $x_1 = x_2$. Learning in naive Bayes results in $p(x_1 ~|~ y) = p(x_2 ~|~ y)$, which double counts the evidence. Logistic regression doesn’t have this problem because it can set either $α_1=0$ or $α_2=0$.\n",
        "\n",
        "\n",
        "## <b> Missing Data </b>\n",
        "* ### Generative models can work with missing data, and discriminative models generally can’t. In generative models, we can still estimate the posterior by marginalizing over the unseen variables. However, discriminative models usually require all the features X to be observed.\n",
        "\n",
        "\n",
        "## <b> Performance </b>\n",
        "* ### Compared with discriminative models, generative models need less data to train. This is because generative models are more biased as they make stronger assumptions (assumption of conditional independence).\n",
        "\n",
        "\n",
        "## <b> Application </b>\n",
        "* ### Discriminative models are “discriminative” because they are useful but only useful for discriminating Y’s label, so they can only solve classification problems. Generative models have more applications besides classification, e.g. samplings, bayes learning, MAP inference."
      ]
    },
    {
      "cell_type": "markdown",
      "metadata": {
        "id": "MO7VNjc02Mlo"
      },
      "source": [
        "# <b><u> Python Implementation of Naive Bayes algorithm </u></b>"
      ]
    },
    {
      "cell_type": "markdown",
      "metadata": {
        "id": "uBzBSzgp2ab1"
      },
      "source": [
        "## <b> Our objective is to predict whether a message will be spam or not</b>\n",
        "\n",
        "### Since we have textual data, we will familiarize ourselves with basic Natural Language Processing technqiues so that we can create vector representations of words in our data."
      ]
    },
    {
      "cell_type": "markdown",
      "source": [
        "Data download - https://github.com/mohitgupta-omg/Kaggle-SMS-Spam-Collection-Dataset-/blob/master/spam.csv\n"
      ],
      "metadata": {
        "id": "1-rFpc4Udyjv"
      }
    },
    {
      "cell_type": "code",
      "metadata": {
        "colab": {
          "base_uri": "https://localhost:8080/",
          "height": 73
        },
        "id": "ffai7Vrr4JGf",
        "outputId": "8e89a47f-8b3f-44df-94e0-395517389709"
      },
      "source": [
        "# from google.colab import drive\n",
        "# drive.mount('/content/drive')\n",
        "from google.colab import files\n",
        "scores_file = files.upload()"
      ],
      "execution_count": null,
      "outputs": [
        {
          "output_type": "display_data",
          "data": {
            "text/plain": [
              "<IPython.core.display.HTML object>"
            ],
            "text/html": [
              "\n",
              "     <input type=\"file\" id=\"files-9b862b5e-f3e5-47db-890f-8ff3a123c557\" name=\"files[]\" multiple disabled\n",
              "        style=\"border:none\" />\n",
              "     <output id=\"result-9b862b5e-f3e5-47db-890f-8ff3a123c557\">\n",
              "      Upload widget is only available when the cell has been executed in the\n",
              "      current browser session. Please rerun this cell to enable.\n",
              "      </output>\n",
              "      <script>// Copyright 2017 Google LLC\n",
              "//\n",
              "// Licensed under the Apache License, Version 2.0 (the \"License\");\n",
              "// you may not use this file except in compliance with the License.\n",
              "// You may obtain a copy of the License at\n",
              "//\n",
              "//      http://www.apache.org/licenses/LICENSE-2.0\n",
              "//\n",
              "// Unless required by applicable law or agreed to in writing, software\n",
              "// distributed under the License is distributed on an \"AS IS\" BASIS,\n",
              "// WITHOUT WARRANTIES OR CONDITIONS OF ANY KIND, either express or implied.\n",
              "// See the License for the specific language governing permissions and\n",
              "// limitations under the License.\n",
              "\n",
              "/**\n",
              " * @fileoverview Helpers for google.colab Python module.\n",
              " */\n",
              "(function(scope) {\n",
              "function span(text, styleAttributes = {}) {\n",
              "  const element = document.createElement('span');\n",
              "  element.textContent = text;\n",
              "  for (const key of Object.keys(styleAttributes)) {\n",
              "    element.style[key] = styleAttributes[key];\n",
              "  }\n",
              "  return element;\n",
              "}\n",
              "\n",
              "// Max number of bytes which will be uploaded at a time.\n",
              "const MAX_PAYLOAD_SIZE = 100 * 1024;\n",
              "\n",
              "function _uploadFiles(inputId, outputId) {\n",
              "  const steps = uploadFilesStep(inputId, outputId);\n",
              "  const outputElement = document.getElementById(outputId);\n",
              "  // Cache steps on the outputElement to make it available for the next call\n",
              "  // to uploadFilesContinue from Python.\n",
              "  outputElement.steps = steps;\n",
              "\n",
              "  return _uploadFilesContinue(outputId);\n",
              "}\n",
              "\n",
              "// This is roughly an async generator (not supported in the browser yet),\n",
              "// where there are multiple asynchronous steps and the Python side is going\n",
              "// to poll for completion of each step.\n",
              "// This uses a Promise to block the python side on completion of each step,\n",
              "// then passes the result of the previous step as the input to the next step.\n",
              "function _uploadFilesContinue(outputId) {\n",
              "  const outputElement = document.getElementById(outputId);\n",
              "  const steps = outputElement.steps;\n",
              "\n",
              "  const next = steps.next(outputElement.lastPromiseValue);\n",
              "  return Promise.resolve(next.value.promise).then((value) => {\n",
              "    // Cache the last promise value to make it available to the next\n",
              "    // step of the generator.\n",
              "    outputElement.lastPromiseValue = value;\n",
              "    return next.value.response;\n",
              "  });\n",
              "}\n",
              "\n",
              "/**\n",
              " * Generator function which is called between each async step of the upload\n",
              " * process.\n",
              " * @param {string} inputId Element ID of the input file picker element.\n",
              " * @param {string} outputId Element ID of the output display.\n",
              " * @return {!Iterable<!Object>} Iterable of next steps.\n",
              " */\n",
              "function* uploadFilesStep(inputId, outputId) {\n",
              "  const inputElement = document.getElementById(inputId);\n",
              "  inputElement.disabled = false;\n",
              "\n",
              "  const outputElement = document.getElementById(outputId);\n",
              "  outputElement.innerHTML = '';\n",
              "\n",
              "  const pickedPromise = new Promise((resolve) => {\n",
              "    inputElement.addEventListener('change', (e) => {\n",
              "      resolve(e.target.files);\n",
              "    });\n",
              "  });\n",
              "\n",
              "  const cancel = document.createElement('button');\n",
              "  inputElement.parentElement.appendChild(cancel);\n",
              "  cancel.textContent = 'Cancel upload';\n",
              "  const cancelPromise = new Promise((resolve) => {\n",
              "    cancel.onclick = () => {\n",
              "      resolve(null);\n",
              "    };\n",
              "  });\n",
              "\n",
              "  // Wait for the user to pick the files.\n",
              "  const files = yield {\n",
              "    promise: Promise.race([pickedPromise, cancelPromise]),\n",
              "    response: {\n",
              "      action: 'starting',\n",
              "    }\n",
              "  };\n",
              "\n",
              "  cancel.remove();\n",
              "\n",
              "  // Disable the input element since further picks are not allowed.\n",
              "  inputElement.disabled = true;\n",
              "\n",
              "  if (!files) {\n",
              "    return {\n",
              "      response: {\n",
              "        action: 'complete',\n",
              "      }\n",
              "    };\n",
              "  }\n",
              "\n",
              "  for (const file of files) {\n",
              "    const li = document.createElement('li');\n",
              "    li.append(span(file.name, {fontWeight: 'bold'}));\n",
              "    li.append(span(\n",
              "        `(${file.type || 'n/a'}) - ${file.size} bytes, ` +\n",
              "        `last modified: ${\n",
              "            file.lastModifiedDate ? file.lastModifiedDate.toLocaleDateString() :\n",
              "                                    'n/a'} - `));\n",
              "    const percent = span('0% done');\n",
              "    li.appendChild(percent);\n",
              "\n",
              "    outputElement.appendChild(li);\n",
              "\n",
              "    const fileDataPromise = new Promise((resolve) => {\n",
              "      const reader = new FileReader();\n",
              "      reader.onload = (e) => {\n",
              "        resolve(e.target.result);\n",
              "      };\n",
              "      reader.readAsArrayBuffer(file);\n",
              "    });\n",
              "    // Wait for the data to be ready.\n",
              "    let fileData = yield {\n",
              "      promise: fileDataPromise,\n",
              "      response: {\n",
              "        action: 'continue',\n",
              "      }\n",
              "    };\n",
              "\n",
              "    // Use a chunked sending to avoid message size limits. See b/62115660.\n",
              "    let position = 0;\n",
              "    do {\n",
              "      const length = Math.min(fileData.byteLength - position, MAX_PAYLOAD_SIZE);\n",
              "      const chunk = new Uint8Array(fileData, position, length);\n",
              "      position += length;\n",
              "\n",
              "      const base64 = btoa(String.fromCharCode.apply(null, chunk));\n",
              "      yield {\n",
              "        response: {\n",
              "          action: 'append',\n",
              "          file: file.name,\n",
              "          data: base64,\n",
              "        },\n",
              "      };\n",
              "\n",
              "      let percentDone = fileData.byteLength === 0 ?\n",
              "          100 :\n",
              "          Math.round((position / fileData.byteLength) * 100);\n",
              "      percent.textContent = `${percentDone}% done`;\n",
              "\n",
              "    } while (position < fileData.byteLength);\n",
              "  }\n",
              "\n",
              "  // All done.\n",
              "  yield {\n",
              "    response: {\n",
              "      action: 'complete',\n",
              "    }\n",
              "  };\n",
              "}\n",
              "\n",
              "scope.google = scope.google || {};\n",
              "scope.google.colab = scope.google.colab || {};\n",
              "scope.google.colab._files = {\n",
              "  _uploadFiles,\n",
              "  _uploadFilesContinue,\n",
              "};\n",
              "})(self);\n",
              "</script> "
            ]
          },
          "metadata": {}
        },
        {
          "output_type": "stream",
          "name": "stdout",
          "text": [
            "Saving 15_spam_1.csv to 15_spam_1.csv\n"
          ]
        }
      ]
    },
    {
      "cell_type": "code",
      "metadata": {
        "id": "YNLBkSJgzXw2"
      },
      "source": [
        "#Load the necessary python libraries\n",
        "import numpy as np\n",
        "import pandas as pd\n",
        "import matplotlib.pyplot as plt\n",
        "plt.style.use('ggplot')"
      ],
      "execution_count": null,
      "outputs": []
    },
    {
      "cell_type": "code",
      "metadata": {
        "colab": {
          "base_uri": "https://localhost:8080/",
          "height": 206
        },
        "id": "-PTdBoC92zdw",
        "outputId": "05277774-46e3-4232-9370-ef6bb0307d11"
      },
      "source": [
        "import io\n",
        "import pandas as pd\n",
        "message = pd.read_csv(io.BytesIO(scores_file['15_spam_1.csv']))\n",
        "#message = pd.read_csv('/content/drive/MyDrive/AlmaBetter/Cohort Aravali/Module 3/Week 3/Day 2/spam.csv', encoding='latin-1')[['v1', 'v2']]\n",
        "message.columns = ['label', 'message']\n",
        "message.head()"
      ],
      "execution_count": null,
      "outputs": [
        {
          "output_type": "execute_result",
          "data": {
            "text/plain": [
              "  label                                            message\n",
              "0   ham  Go until jurong point, crazy.. Available only ...\n",
              "1   ham                      Ok lar... Joking wif u oni...\n",
              "2  spam  Free entry in 2 a wkly comp to win FA Cup fina...\n",
              "3   ham  U dun say so early hor... U c already then say...\n",
              "4   ham  Nah I don't think he goes to usf, he lives aro..."
            ],
            "text/html": [
              "\n",
              "  <div id=\"df-254d2490-c664-46cb-859d-3a61133ad0e7\">\n",
              "    <div class=\"colab-df-container\">\n",
              "      <div>\n",
              "<style scoped>\n",
              "    .dataframe tbody tr th:only-of-type {\n",
              "        vertical-align: middle;\n",
              "    }\n",
              "\n",
              "    .dataframe tbody tr th {\n",
              "        vertical-align: top;\n",
              "    }\n",
              "\n",
              "    .dataframe thead th {\n",
              "        text-align: right;\n",
              "    }\n",
              "</style>\n",
              "<table border=\"1\" class=\"dataframe\">\n",
              "  <thead>\n",
              "    <tr style=\"text-align: right;\">\n",
              "      <th></th>\n",
              "      <th>label</th>\n",
              "      <th>message</th>\n",
              "    </tr>\n",
              "  </thead>\n",
              "  <tbody>\n",
              "    <tr>\n",
              "      <th>0</th>\n",
              "      <td>ham</td>\n",
              "      <td>Go until jurong point, crazy.. Available only ...</td>\n",
              "    </tr>\n",
              "    <tr>\n",
              "      <th>1</th>\n",
              "      <td>ham</td>\n",
              "      <td>Ok lar... Joking wif u oni...</td>\n",
              "    </tr>\n",
              "    <tr>\n",
              "      <th>2</th>\n",
              "      <td>spam</td>\n",
              "      <td>Free entry in 2 a wkly comp to win FA Cup fina...</td>\n",
              "    </tr>\n",
              "    <tr>\n",
              "      <th>3</th>\n",
              "      <td>ham</td>\n",
              "      <td>U dun say so early hor... U c already then say...</td>\n",
              "    </tr>\n",
              "    <tr>\n",
              "      <th>4</th>\n",
              "      <td>ham</td>\n",
              "      <td>Nah I don't think he goes to usf, he lives aro...</td>\n",
              "    </tr>\n",
              "  </tbody>\n",
              "</table>\n",
              "</div>\n",
              "      <button class=\"colab-df-convert\" onclick=\"convertToInteractive('df-254d2490-c664-46cb-859d-3a61133ad0e7')\"\n",
              "              title=\"Convert this dataframe to an interactive table.\"\n",
              "              style=\"display:none;\">\n",
              "        \n",
              "  <svg xmlns=\"http://www.w3.org/2000/svg\" height=\"24px\"viewBox=\"0 0 24 24\"\n",
              "       width=\"24px\">\n",
              "    <path d=\"M0 0h24v24H0V0z\" fill=\"none\"/>\n",
              "    <path d=\"M18.56 5.44l.94 2.06.94-2.06 2.06-.94-2.06-.94-.94-2.06-.94 2.06-2.06.94zm-11 1L8.5 8.5l.94-2.06 2.06-.94-2.06-.94L8.5 2.5l-.94 2.06-2.06.94zm10 10l.94 2.06.94-2.06 2.06-.94-2.06-.94-.94-2.06-.94 2.06-2.06.94z\"/><path d=\"M17.41 7.96l-1.37-1.37c-.4-.4-.92-.59-1.43-.59-.52 0-1.04.2-1.43.59L10.3 9.45l-7.72 7.72c-.78.78-.78 2.05 0 2.83L4 21.41c.39.39.9.59 1.41.59.51 0 1.02-.2 1.41-.59l7.78-7.78 2.81-2.81c.8-.78.8-2.07 0-2.86zM5.41 20L4 18.59l7.72-7.72 1.47 1.35L5.41 20z\"/>\n",
              "  </svg>\n",
              "      </button>\n",
              "      \n",
              "  <style>\n",
              "    .colab-df-container {\n",
              "      display:flex;\n",
              "      flex-wrap:wrap;\n",
              "      gap: 12px;\n",
              "    }\n",
              "\n",
              "    .colab-df-convert {\n",
              "      background-color: #E8F0FE;\n",
              "      border: none;\n",
              "      border-radius: 50%;\n",
              "      cursor: pointer;\n",
              "      display: none;\n",
              "      fill: #1967D2;\n",
              "      height: 32px;\n",
              "      padding: 0 0 0 0;\n",
              "      width: 32px;\n",
              "    }\n",
              "\n",
              "    .colab-df-convert:hover {\n",
              "      background-color: #E2EBFA;\n",
              "      box-shadow: 0px 1px 2px rgba(60, 64, 67, 0.3), 0px 1px 3px 1px rgba(60, 64, 67, 0.15);\n",
              "      fill: #174EA6;\n",
              "    }\n",
              "\n",
              "    [theme=dark] .colab-df-convert {\n",
              "      background-color: #3B4455;\n",
              "      fill: #D2E3FC;\n",
              "    }\n",
              "\n",
              "    [theme=dark] .colab-df-convert:hover {\n",
              "      background-color: #434B5C;\n",
              "      box-shadow: 0px 1px 3px 1px rgba(0, 0, 0, 0.15);\n",
              "      filter: drop-shadow(0px 1px 2px rgba(0, 0, 0, 0.3));\n",
              "      fill: #FFFFFF;\n",
              "    }\n",
              "  </style>\n",
              "\n",
              "      <script>\n",
              "        const buttonEl =\n",
              "          document.querySelector('#df-254d2490-c664-46cb-859d-3a61133ad0e7 button.colab-df-convert');\n",
              "        buttonEl.style.display =\n",
              "          google.colab.kernel.accessAllowed ? 'block' : 'none';\n",
              "\n",
              "        async function convertToInteractive(key) {\n",
              "          const element = document.querySelector('#df-254d2490-c664-46cb-859d-3a61133ad0e7');\n",
              "          const dataTable =\n",
              "            await google.colab.kernel.invokeFunction('convertToInteractive',\n",
              "                                                     [key], {});\n",
              "          if (!dataTable) return;\n",
              "\n",
              "          const docLinkHtml = 'Like what you see? Visit the ' +\n",
              "            '<a target=\"_blank\" href=https://colab.research.google.com/notebooks/data_table.ipynb>data table notebook</a>'\n",
              "            + ' to learn more about interactive tables.';\n",
              "          element.innerHTML = '';\n",
              "          dataTable['output_type'] = 'display_data';\n",
              "          await google.colab.output.renderOutput(dataTable, element);\n",
              "          const docLink = document.createElement('div');\n",
              "          docLink.innerHTML = docLinkHtml;\n",
              "          element.appendChild(docLink);\n",
              "        }\n",
              "      </script>\n",
              "    </div>\n",
              "  </div>\n",
              "  "
            ]
          },
          "metadata": {},
          "execution_count": 7
        }
      ]
    },
    {
      "cell_type": "code",
      "metadata": {
        "colab": {
          "base_uri": "https://localhost:8080/"
        },
        "id": "PJlxGpgJybZH",
        "outputId": "7712502f-7044-44cf-9fb2-f575976711df"
      },
      "source": [
        "message.shape"
      ],
      "execution_count": null,
      "outputs": [
        {
          "output_type": "execute_result",
          "data": {
            "text/plain": [
              "(5572, 2)"
            ]
          },
          "metadata": {},
          "execution_count": 8
        }
      ]
    },
    {
      "cell_type": "code",
      "metadata": {
        "colab": {
          "base_uri": "https://localhost:8080/"
        },
        "id": "IZj7Mi6TB8nx",
        "outputId": "a07abd78-bd52-41bc-caa6-8c6ffc432d29"
      },
      "source": [
        "message['label'].value_counts()"
      ],
      "execution_count": null,
      "outputs": [
        {
          "output_type": "execute_result",
          "data": {
            "text/plain": [
              "ham     4825\n",
              "spam     747\n",
              "Name: label, dtype: int64"
            ]
          },
          "metadata": {},
          "execution_count": 9
        }
      ]
    },
    {
      "cell_type": "code",
      "metadata": {
        "colab": {
          "base_uri": "https://localhost:8080/",
          "height": 175
        },
        "id": "2i9J9C5T2zau",
        "outputId": "bea52e48-8b32-46e1-dc7d-a1230b58974b"
      },
      "source": [
        "message.groupby('label').describe()"
      ],
      "execution_count": null,
      "outputs": [
        {
          "output_type": "execute_result",
          "data": {
            "text/plain": [
              "      message                                                               \n",
              "        count unique                                                top freq\n",
              "label                                                                       \n",
              "ham      4825   4516                             Sorry, I'll call later   30\n",
              "spam      747    642  Please call our customer service representativ...    4"
            ],
            "text/html": [
              "\n",
              "  <div id=\"df-e1ee52d6-e5e3-4f1e-90f2-33a13cff8553\">\n",
              "    <div class=\"colab-df-container\">\n",
              "      <div>\n",
              "<style scoped>\n",
              "    .dataframe tbody tr th:only-of-type {\n",
              "        vertical-align: middle;\n",
              "    }\n",
              "\n",
              "    .dataframe tbody tr th {\n",
              "        vertical-align: top;\n",
              "    }\n",
              "\n",
              "    .dataframe thead tr th {\n",
              "        text-align: left;\n",
              "    }\n",
              "\n",
              "    .dataframe thead tr:last-of-type th {\n",
              "        text-align: right;\n",
              "    }\n",
              "</style>\n",
              "<table border=\"1\" class=\"dataframe\">\n",
              "  <thead>\n",
              "    <tr>\n",
              "      <th></th>\n",
              "      <th colspan=\"4\" halign=\"left\">message</th>\n",
              "    </tr>\n",
              "    <tr>\n",
              "      <th></th>\n",
              "      <th>count</th>\n",
              "      <th>unique</th>\n",
              "      <th>top</th>\n",
              "      <th>freq</th>\n",
              "    </tr>\n",
              "    <tr>\n",
              "      <th>label</th>\n",
              "      <th></th>\n",
              "      <th></th>\n",
              "      <th></th>\n",
              "      <th></th>\n",
              "    </tr>\n",
              "  </thead>\n",
              "  <tbody>\n",
              "    <tr>\n",
              "      <th>ham</th>\n",
              "      <td>4825</td>\n",
              "      <td>4516</td>\n",
              "      <td>Sorry, I'll call later</td>\n",
              "      <td>30</td>\n",
              "    </tr>\n",
              "    <tr>\n",
              "      <th>spam</th>\n",
              "      <td>747</td>\n",
              "      <td>642</td>\n",
              "      <td>Please call our customer service representativ...</td>\n",
              "      <td>4</td>\n",
              "    </tr>\n",
              "  </tbody>\n",
              "</table>\n",
              "</div>\n",
              "      <button class=\"colab-df-convert\" onclick=\"convertToInteractive('df-e1ee52d6-e5e3-4f1e-90f2-33a13cff8553')\"\n",
              "              title=\"Convert this dataframe to an interactive table.\"\n",
              "              style=\"display:none;\">\n",
              "        \n",
              "  <svg xmlns=\"http://www.w3.org/2000/svg\" height=\"24px\"viewBox=\"0 0 24 24\"\n",
              "       width=\"24px\">\n",
              "    <path d=\"M0 0h24v24H0V0z\" fill=\"none\"/>\n",
              "    <path d=\"M18.56 5.44l.94 2.06.94-2.06 2.06-.94-2.06-.94-.94-2.06-.94 2.06-2.06.94zm-11 1L8.5 8.5l.94-2.06 2.06-.94-2.06-.94L8.5 2.5l-.94 2.06-2.06.94zm10 10l.94 2.06.94-2.06 2.06-.94-2.06-.94-.94-2.06-.94 2.06-2.06.94z\"/><path d=\"M17.41 7.96l-1.37-1.37c-.4-.4-.92-.59-1.43-.59-.52 0-1.04.2-1.43.59L10.3 9.45l-7.72 7.72c-.78.78-.78 2.05 0 2.83L4 21.41c.39.39.9.59 1.41.59.51 0 1.02-.2 1.41-.59l7.78-7.78 2.81-2.81c.8-.78.8-2.07 0-2.86zM5.41 20L4 18.59l7.72-7.72 1.47 1.35L5.41 20z\"/>\n",
              "  </svg>\n",
              "      </button>\n",
              "      \n",
              "  <style>\n",
              "    .colab-df-container {\n",
              "      display:flex;\n",
              "      flex-wrap:wrap;\n",
              "      gap: 12px;\n",
              "    }\n",
              "\n",
              "    .colab-df-convert {\n",
              "      background-color: #E8F0FE;\n",
              "      border: none;\n",
              "      border-radius: 50%;\n",
              "      cursor: pointer;\n",
              "      display: none;\n",
              "      fill: #1967D2;\n",
              "      height: 32px;\n",
              "      padding: 0 0 0 0;\n",
              "      width: 32px;\n",
              "    }\n",
              "\n",
              "    .colab-df-convert:hover {\n",
              "      background-color: #E2EBFA;\n",
              "      box-shadow: 0px 1px 2px rgba(60, 64, 67, 0.3), 0px 1px 3px 1px rgba(60, 64, 67, 0.15);\n",
              "      fill: #174EA6;\n",
              "    }\n",
              "\n",
              "    [theme=dark] .colab-df-convert {\n",
              "      background-color: #3B4455;\n",
              "      fill: #D2E3FC;\n",
              "    }\n",
              "\n",
              "    [theme=dark] .colab-df-convert:hover {\n",
              "      background-color: #434B5C;\n",
              "      box-shadow: 0px 1px 3px 1px rgba(0, 0, 0, 0.15);\n",
              "      filter: drop-shadow(0px 1px 2px rgba(0, 0, 0, 0.3));\n",
              "      fill: #FFFFFF;\n",
              "    }\n",
              "  </style>\n",
              "\n",
              "      <script>\n",
              "        const buttonEl =\n",
              "          document.querySelector('#df-e1ee52d6-e5e3-4f1e-90f2-33a13cff8553 button.colab-df-convert');\n",
              "        buttonEl.style.display =\n",
              "          google.colab.kernel.accessAllowed ? 'block' : 'none';\n",
              "\n",
              "        async function convertToInteractive(key) {\n",
              "          const element = document.querySelector('#df-e1ee52d6-e5e3-4f1e-90f2-33a13cff8553');\n",
              "          const dataTable =\n",
              "            await google.colab.kernel.invokeFunction('convertToInteractive',\n",
              "                                                     [key], {});\n",
              "          if (!dataTable) return;\n",
              "\n",
              "          const docLinkHtml = 'Like what you see? Visit the ' +\n",
              "            '<a target=\"_blank\" href=https://colab.research.google.com/notebooks/data_table.ipynb>data table notebook</a>'\n",
              "            + ' to learn more about interactive tables.';\n",
              "          element.innerHTML = '';\n",
              "          dataTable['output_type'] = 'display_data';\n",
              "          await google.colab.output.renderOutput(dataTable, element);\n",
              "          const docLink = document.createElement('div');\n",
              "          docLink.innerHTML = docLinkHtml;\n",
              "          element.appendChild(docLink);\n",
              "        }\n",
              "      </script>\n",
              "    </div>\n",
              "  </div>\n",
              "  "
            ]
          },
          "metadata": {},
          "execution_count": 10
        }
      ]
    },
    {
      "cell_type": "code",
      "metadata": {
        "id": "O4DeH1g62zXl",
        "colab": {
          "base_uri": "https://localhost:8080/",
          "height": 206
        },
        "outputId": "44524dae-4ae0-47db-cbb3-c57168452b96"
      },
      "source": [
        "message['length']=message['message'].apply(len)\n",
        "message.head()"
      ],
      "execution_count": null,
      "outputs": [
        {
          "output_type": "execute_result",
          "data": {
            "text/plain": [
              "  label                                            message  length\n",
              "0   ham  Go until jurong point, crazy.. Available only ...     111\n",
              "1   ham                      Ok lar... Joking wif u oni...      29\n",
              "2  spam  Free entry in 2 a wkly comp to win FA Cup fina...     155\n",
              "3   ham  U dun say so early hor... U c already then say...      49\n",
              "4   ham  Nah I don't think he goes to usf, he lives aro...      61"
            ],
            "text/html": [
              "\n",
              "  <div id=\"df-44dbe3bc-d863-400f-851b-dcb95767186b\">\n",
              "    <div class=\"colab-df-container\">\n",
              "      <div>\n",
              "<style scoped>\n",
              "    .dataframe tbody tr th:only-of-type {\n",
              "        vertical-align: middle;\n",
              "    }\n",
              "\n",
              "    .dataframe tbody tr th {\n",
              "        vertical-align: top;\n",
              "    }\n",
              "\n",
              "    .dataframe thead th {\n",
              "        text-align: right;\n",
              "    }\n",
              "</style>\n",
              "<table border=\"1\" class=\"dataframe\">\n",
              "  <thead>\n",
              "    <tr style=\"text-align: right;\">\n",
              "      <th></th>\n",
              "      <th>label</th>\n",
              "      <th>message</th>\n",
              "      <th>length</th>\n",
              "    </tr>\n",
              "  </thead>\n",
              "  <tbody>\n",
              "    <tr>\n",
              "      <th>0</th>\n",
              "      <td>ham</td>\n",
              "      <td>Go until jurong point, crazy.. Available only ...</td>\n",
              "      <td>111</td>\n",
              "    </tr>\n",
              "    <tr>\n",
              "      <th>1</th>\n",
              "      <td>ham</td>\n",
              "      <td>Ok lar... Joking wif u oni...</td>\n",
              "      <td>29</td>\n",
              "    </tr>\n",
              "    <tr>\n",
              "      <th>2</th>\n",
              "      <td>spam</td>\n",
              "      <td>Free entry in 2 a wkly comp to win FA Cup fina...</td>\n",
              "      <td>155</td>\n",
              "    </tr>\n",
              "    <tr>\n",
              "      <th>3</th>\n",
              "      <td>ham</td>\n",
              "      <td>U dun say so early hor... U c already then say...</td>\n",
              "      <td>49</td>\n",
              "    </tr>\n",
              "    <tr>\n",
              "      <th>4</th>\n",
              "      <td>ham</td>\n",
              "      <td>Nah I don't think he goes to usf, he lives aro...</td>\n",
              "      <td>61</td>\n",
              "    </tr>\n",
              "  </tbody>\n",
              "</table>\n",
              "</div>\n",
              "      <button class=\"colab-df-convert\" onclick=\"convertToInteractive('df-44dbe3bc-d863-400f-851b-dcb95767186b')\"\n",
              "              title=\"Convert this dataframe to an interactive table.\"\n",
              "              style=\"display:none;\">\n",
              "        \n",
              "  <svg xmlns=\"http://www.w3.org/2000/svg\" height=\"24px\"viewBox=\"0 0 24 24\"\n",
              "       width=\"24px\">\n",
              "    <path d=\"M0 0h24v24H0V0z\" fill=\"none\"/>\n",
              "    <path d=\"M18.56 5.44l.94 2.06.94-2.06 2.06-.94-2.06-.94-.94-2.06-.94 2.06-2.06.94zm-11 1L8.5 8.5l.94-2.06 2.06-.94-2.06-.94L8.5 2.5l-.94 2.06-2.06.94zm10 10l.94 2.06.94-2.06 2.06-.94-2.06-.94-.94-2.06-.94 2.06-2.06.94z\"/><path d=\"M17.41 7.96l-1.37-1.37c-.4-.4-.92-.59-1.43-.59-.52 0-1.04.2-1.43.59L10.3 9.45l-7.72 7.72c-.78.78-.78 2.05 0 2.83L4 21.41c.39.39.9.59 1.41.59.51 0 1.02-.2 1.41-.59l7.78-7.78 2.81-2.81c.8-.78.8-2.07 0-2.86zM5.41 20L4 18.59l7.72-7.72 1.47 1.35L5.41 20z\"/>\n",
              "  </svg>\n",
              "      </button>\n",
              "      \n",
              "  <style>\n",
              "    .colab-df-container {\n",
              "      display:flex;\n",
              "      flex-wrap:wrap;\n",
              "      gap: 12px;\n",
              "    }\n",
              "\n",
              "    .colab-df-convert {\n",
              "      background-color: #E8F0FE;\n",
              "      border: none;\n",
              "      border-radius: 50%;\n",
              "      cursor: pointer;\n",
              "      display: none;\n",
              "      fill: #1967D2;\n",
              "      height: 32px;\n",
              "      padding: 0 0 0 0;\n",
              "      width: 32px;\n",
              "    }\n",
              "\n",
              "    .colab-df-convert:hover {\n",
              "      background-color: #E2EBFA;\n",
              "      box-shadow: 0px 1px 2px rgba(60, 64, 67, 0.3), 0px 1px 3px 1px rgba(60, 64, 67, 0.15);\n",
              "      fill: #174EA6;\n",
              "    }\n",
              "\n",
              "    [theme=dark] .colab-df-convert {\n",
              "      background-color: #3B4455;\n",
              "      fill: #D2E3FC;\n",
              "    }\n",
              "\n",
              "    [theme=dark] .colab-df-convert:hover {\n",
              "      background-color: #434B5C;\n",
              "      box-shadow: 0px 1px 3px 1px rgba(0, 0, 0, 0.15);\n",
              "      filter: drop-shadow(0px 1px 2px rgba(0, 0, 0, 0.3));\n",
              "      fill: #FFFFFF;\n",
              "    }\n",
              "  </style>\n",
              "\n",
              "      <script>\n",
              "        const buttonEl =\n",
              "          document.querySelector('#df-44dbe3bc-d863-400f-851b-dcb95767186b button.colab-df-convert');\n",
              "        buttonEl.style.display =\n",
              "          google.colab.kernel.accessAllowed ? 'block' : 'none';\n",
              "\n",
              "        async function convertToInteractive(key) {\n",
              "          const element = document.querySelector('#df-44dbe3bc-d863-400f-851b-dcb95767186b');\n",
              "          const dataTable =\n",
              "            await google.colab.kernel.invokeFunction('convertToInteractive',\n",
              "                                                     [key], {});\n",
              "          if (!dataTable) return;\n",
              "\n",
              "          const docLinkHtml = 'Like what you see? Visit the ' +\n",
              "            '<a target=\"_blank\" href=https://colab.research.google.com/notebooks/data_table.ipynb>data table notebook</a>'\n",
              "            + ' to learn more about interactive tables.';\n",
              "          element.innerHTML = '';\n",
              "          dataTable['output_type'] = 'display_data';\n",
              "          await google.colab.output.renderOutput(dataTable, element);\n",
              "          const docLink = document.createElement('div');\n",
              "          docLink.innerHTML = docLinkHtml;\n",
              "          element.appendChild(docLink);\n",
              "        }\n",
              "      </script>\n",
              "    </div>\n",
              "  </div>\n",
              "  "
            ]
          },
          "metadata": {},
          "execution_count": 11
        }
      ]
    },
    {
      "cell_type": "code",
      "metadata": {
        "id": "9rGXTLgl2zUY"
      },
      "source": [
        "import matplotlib.pyplot as plt\n",
        "import seaborn as sns\n",
        "%matplotlib inline"
      ],
      "execution_count": null,
      "outputs": []
    },
    {
      "cell_type": "code",
      "metadata": {
        "colab": {
          "base_uri": "https://localhost:8080/",
          "height": 452
        },
        "id": "b_xnNvjvyyTU",
        "outputId": "495a654c-f7dc-4d58-b3ba-3973e16c918d"
      },
      "source": [
        "message['length'].plot(bins=50,kind='hist')"
      ],
      "execution_count": null,
      "outputs": [
        {
          "output_type": "execute_result",
          "data": {
            "text/plain": [
              "<Axes: ylabel='Frequency'>"
            ]
          },
          "metadata": {},
          "execution_count": 13
        },
        {
          "output_type": "display_data",
          "data": {
            "text/plain": [
              "<Figure size 640x480 with 1 Axes>"
            ],
            "image/png": "[encoded data removed]"
          },
          "metadata": {}
        }
      ]
    },
    {
      "cell_type": "code",
      "metadata": {
        "colab": {
          "base_uri": "https://localhost:8080/"
        },
        "id": "JRvfDADS0mLd",
        "outputId": "34b2f716-4f71-4c52-990e-511bfbb8db4c"
      },
      "source": [
        "message.length.describe()"
      ],
      "execution_count": null,
      "outputs": [
        {
          "output_type": "execute_result",
          "data": {
            "text/plain": [
              "count    5572.000000\n",
              "mean       80.105528\n",
              "std        59.681416\n",
              "min         2.000000\n",
              "25%        36.000000\n",
              "50%        61.000000\n",
              "75%       121.000000\n",
              "max       910.000000\n",
              "Name: length, dtype: float64"
            ]
          },
          "metadata": {},
          "execution_count": 14
        }
      ]
    },
    {
      "cell_type": "code",
      "metadata": {
        "colab": {
          "base_uri": "https://localhost:8080/",
          "height": 53
        },
        "id": "Gwstq5ZF0qYr",
        "outputId": "aceece89-f24e-460a-a5fa-b594be844bea"
      },
      "source": [
        "message[message['length']==120]['message'].iloc[0]"
      ],
      "execution_count": null,
      "outputs": [
        {
          "output_type": "execute_result",
          "data": {
            "text/plain": [
              "'SMS. ac Sptv: The New Jersey Devils and the Detroit Red Wings play Ice Hockey. Correct or Incorrect? End? Reply END SPTV'"
            ],
            "application/vnd.google.colaboratory.intrinsic+json": {
              "type": "string"
            }
          },
          "metadata": {},
          "execution_count": 15
        }
      ]
    },
    {
      "cell_type": "markdown",
      "metadata": {
        "_uuid": "1992213dcf47852ec603874ddaa4c820b94dae65",
        "id": "hKNhXnnOxLYV"
      },
      "source": [
        "## <b> Text Pre-processing </b>"
      ]
    },
    {
      "cell_type": "markdown",
      "metadata": {
        "_uuid": "69b6b489cd005118861e2806a623d68863b5a2ac",
        "id": "uExUxX_jxLYV"
      },
      "source": [
        "### Our main issue with our data is that it is all in text format (strings). The classification algorithms that we've learned about so far will need some sort of numerical feature vector in order to perform the classification task. There are actually many methods to convert a corpus to a vector format. The simplest is the the [bag-of-words](http://en.wikipedia.org/wiki/Bag-of-words_model) approach, where each unique word in a text will be represented by one number.\n",
        "\n",
        "\n",
        "### In this section we'll convert the raw messages (sequence of characters) into vectors (sequences of numbers).\n",
        "\n",
        "### As a first step, let's write a function that will split a message into its individual words and return a list. We'll also remove very common words, ('the', 'a', etc..). To do this we will take advantage of the NLTK library. It's pretty much the standard library in Python for processing text and has a lot of useful features. We'll only use some of the basic ones here.\n",
        "\n",
        "### Let's create a function that will process the string in the message column, then we can just use <code>apply()</code> in pandas do process all the text in the DataFrame.\n",
        "\n",
        "### First removing punctuation. We can just take advantage of Python's built-in **string** library to get a quick list of all the possible punctuation:"
      ]
    },
    {
      "cell_type": "code",
      "metadata": {
        "colab": {
          "base_uri": "https://localhost:8080/"
        },
        "id": "A3Wl_21a8gu4",
        "outputId": "02ace606-012c-49cf-db76-5fb1fbdeb522"
      },
      "source": [
        "import nltk\n",
        "nltk.download('stopwords')"
      ],
      "execution_count": null,
      "outputs": [
        {
          "output_type": "stream",
          "name": "stderr",
          "text": [
            "[nltk_data] Downloading package stopwords to /root/nltk_data...\n",
            "[nltk_data]   Unzipping corpora/stopwords.zip.\n"
          ]
        },
        {
          "output_type": "execute_result",
          "data": {
            "text/plain": [
              "True"
            ]
          },
          "metadata": {},
          "execution_count": 16
        }
      ]
    },
    {
      "cell_type": "code",
      "metadata": {
        "trusted": true,
        "_uuid": "76e62c93d7140b9fcded80fd9db639ba36d0d64f",
        "id": "SYhoneQtxLYV"
      },
      "source": [
        "import string\n",
        "from nltk.corpus import stopwords"
      ],
      "execution_count": null,
      "outputs": []
    },
    {
      "cell_type": "code",
      "metadata": {
        "colab": {
          "base_uri": "https://localhost:8080/"
        },
        "id": "c5LvCpY0DLFQ",
        "outputId": "bb068ce4-7816-4cbd-8972-c7e1eaa275fe"
      },
      "source": [
        "stopwords.words('english')"
      ],
      "execution_count": null,
      "outputs": [
        {
          "output_type": "execute_result",
          "data": {
            "text/plain": [
              "['i',\n",
              " 'me',\n",
              " 'my',\n",
              " 'myself',\n",
              " 'we',\n",
              " 'our',\n",
              " 'ours',\n",
              " 'ourselves',\n",
              " 'you',\n",
              " \"you're\",\n",
              " \"you've\",\n",
              " \"you'll\",\n",
              " \"you'd\",\n",
              " 'your',\n",
              " 'yours',\n",
              " 'yourself',\n",
              " 'yourselves',\n",
              " 'he',\n",
              " 'him',\n",
              " 'his',\n",
              " 'himself',\n",
              " 'she',\n",
              " \"she's\",\n",
              " 'her',\n",
              " 'hers',\n",
              " 'herself',\n",
              " 'it',\n",
              " \"it's\",\n",
              " 'its',\n",
              " 'itself',\n",
              " 'they',\n",
              " 'them',\n",
              " 'their',\n",
              " 'theirs',\n",
              " 'themselves',\n",
              " 'what',\n",
              " 'which',\n",
              " 'who',\n",
              " 'whom',\n",
              " 'this',\n",
              " 'that',\n",
              " \"that'll\",\n",
              " 'these',\n",
              " 'those',\n",
              " 'am',\n",
              " 'is',\n",
              " 'are',\n",
              " 'was',\n",
              " 'were',\n",
              " 'be',\n",
              " 'been',\n",
              " 'being',\n",
              " 'have',\n",
              " 'has',\n",
              " 'had',\n",
              " 'having',\n",
              " 'do',\n",
              " 'does',\n",
              " 'did',\n",
              " 'doing',\n",
              " 'a',\n",
              " 'an',\n",
              " 'the',\n",
              " 'and',\n",
              " 'but',\n",
              " 'if',\n",
              " 'or',\n",
              " 'because',\n",
              " 'as',\n",
              " 'until',\n",
              " 'while',\n",
              " 'of',\n",
              " 'at',\n",
              " 'by',\n",
              " 'for',\n",
              " 'with',\n",
              " 'about',\n",
              " 'against',\n",
              " 'between',\n",
              " 'into',\n",
              " 'through',\n",
              " 'during',\n",
              " 'before',\n",
              " 'after',\n",
              " 'above',\n",
              " 'below',\n",
              " 'to',\n",
              " 'from',\n",
              " 'up',\n",
              " 'down',\n",
              " 'in',\n",
              " 'out',\n",
              " 'on',\n",
              " 'off',\n",
              " 'over',\n",
              " 'under',\n",
              " 'again',\n",
              " 'further',\n",
              " 'then',\n",
              " 'once',\n",
              " 'here',\n",
              " 'there',\n",
              " 'when',\n",
              " 'where',\n",
              " 'why',\n",
              " 'how',\n",
              " 'all',\n",
              " 'any',\n",
              " 'both',\n",
              " 'each',\n",
              " 'few',\n",
              " 'more',\n",
              " 'most',\n",
              " 'other',\n",
              " 'some',\n",
              " 'such',\n",
              " 'no',\n",
              " 'nor',\n",
              " 'not',\n",
              " 'only',\n",
              " 'own',\n",
              " 'same',\n",
              " 'so',\n",
              " 'than',\n",
              " 'too',\n",
              " 'very',\n",
              " 's',\n",
              " 't',\n",
              " 'can',\n",
              " 'will',\n",
              " 'just',\n",
              " 'don',\n",
              " \"don't\",\n",
              " 'should',\n",
              " \"should've\",\n",
              " 'now',\n",
              " 'd',\n",
              " 'll',\n",
              " 'm',\n",
              " 'o',\n",
              " 're',\n",
              " 've',\n",
              " 'y',\n",
              " 'ain',\n",
              " 'aren',\n",
              " \"aren't\",\n",
              " 'couldn',\n",
              " \"couldn't\",\n",
              " 'didn',\n",
              " \"didn't\",\n",
              " 'doesn',\n",
              " \"doesn't\",\n",
              " 'hadn',\n",
              " \"hadn't\",\n",
              " 'hasn',\n",
              " \"hasn't\",\n",
              " 'haven',\n",
              " \"haven't\",\n",
              " 'isn',\n",
              " \"isn't\",\n",
              " 'ma',\n",
              " 'mightn',\n",
              " \"mightn't\",\n",
              " 'mustn',\n",
              " \"mustn't\",\n",
              " 'needn',\n",
              " \"needn't\",\n",
              " 'shan',\n",
              " \"shan't\",\n",
              " 'shouldn',\n",
              " \"shouldn't\",\n",
              " 'wasn',\n",
              " \"wasn't\",\n",
              " 'weren',\n",
              " \"weren't\",\n",
              " 'won',\n",
              " \"won't\",\n",
              " 'wouldn',\n",
              " \"wouldn't\"]"
            ]
          },
          "metadata": {},
          "execution_count": 18
        }
      ]
    },
    {
      "cell_type": "markdown",
      "metadata": {
        "_uuid": "45d5d17fb78f3098ea2c15143860922b25fc29d2",
        "id": "ldblV8byxLYW"
      },
      "source": [
        "## Let us write a function which removes punctuation and stopwords from our data"
      ]
    },
    {
      "cell_type": "code",
      "metadata": {
        "colab": {
          "base_uri": "https://localhost:8080/"
        },
        "id": "f8BF-BZHDlRX",
        "outputId": "406f0329-6217-49b8-ba8b-87049465975c"
      },
      "source": [
        "[punc for punc in string.punctuation]"
      ],
      "execution_count": null,
      "outputs": [
        {
          "output_type": "execute_result",
          "data": {
            "text/plain": [
              "['!',\n",
              " '\"',\n",
              " '#',\n",
              " '$',\n",
              " '%',\n",
              " '&',\n",
              " \"'\",\n",
              " '(',\n",
              " ')',\n",
              " '*',\n",
              " '+',\n",
              " ',',\n",
              " '-',\n",
              " '.',\n",
              " '/',\n",
              " ':',\n",
              " ';',\n",
              " '<',\n",
              " '=',\n",
              " '>',\n",
              " '?',\n",
              " '@',\n",
              " '[',\n",
              " '\\\\',\n",
              " ']',\n",
              " '^',\n",
              " '_',\n",
              " '`',\n",
              " '{',\n",
              " '|',\n",
              " '}',\n",
              " '~']"
            ]
          },
          "metadata": {},
          "execution_count": 19
        }
      ]
    },
    {
      "cell_type": "code",
      "metadata": {
        "trusted": true,
        "_uuid": "8ee6f7fc69b9efe438ba695c806d0c1f89bbe6e5",
        "id": "PRHoUfwDxLYW"
      },
      "source": [
        "def text_process(msg):\n",
        "    nopunc =[char for char in msg if char not in string.punctuation]\n",
        "    nopunc=''.join(nopunc)\n",
        "    return ' '.join([word for word in nopunc.split() if word.lower() not in stopwords.words('english')])"
      ],
      "execution_count": null,
      "outputs": []
    },
    {
      "cell_type": "code",
      "metadata": {
        "trusted": true,
        "_uuid": "77eaa612dede5c0b89ceafbdc6e4f1e803f872b9",
        "id": "AJazoRvPxLYX",
        "colab": {
          "base_uri": "https://localhost:8080/",
          "height": 206
        },
        "outputId": "0eb0d756-a1a6-44e3-d330-22c9f9007178"
      },
      "source": [
        "message.head()"
      ],
      "execution_count": null,
      "outputs": [
        {
          "output_type": "execute_result",
          "data": {
            "text/plain": [
              "  label                                            message  length\n",
              "0   ham  Go until jurong point, crazy.. Available only ...     111\n",
              "1   ham                      Ok lar... Joking wif u oni...      29\n",
              "2  spam  Free entry in 2 a wkly comp to win FA Cup fina...     155\n",
              "3   ham  U dun say so early hor... U c already then say...      49\n",
              "4   ham  Nah I don't think he goes to usf, he lives aro...      61"
            ],
            "text/html": [
              "\n",
              "  <div id=\"df-e0dc5b0d-386d-4f6f-8597-f86a229eec3a\">\n",
              "    <div class=\"colab-df-container\">\n",
              "      <div>\n",
              "<style scoped>\n",
              "    .dataframe tbody tr th:only-of-type {\n",
              "        vertical-align: middle;\n",
              "    }\n",
              "\n",
              "    .dataframe tbody tr th {\n",
              "        vertical-align: top;\n",
              "    }\n",
              "\n",
              "    .dataframe thead th {\n",
              "        text-align: right;\n",
              "    }\n",
              "</style>\n",
              "<table border=\"1\" class=\"dataframe\">\n",
              "  <thead>\n",
              "    <tr style=\"text-align: right;\">\n",
              "      <th></th>\n",
              "      <th>label</th>\n",
              "      <th>message</th>\n",
              "      <th>length</th>\n",
              "    </tr>\n",
              "  </thead>\n",
              "  <tbody>\n",
              "    <tr>\n",
              "      <th>0</th>\n",
              "      <td>ham</td>\n",
              "      <td>Go until jurong point, crazy.. Available only ...</td>\n",
              "      <td>111</td>\n",
              "    </tr>\n",
              "    <tr>\n",
              "      <th>1</th>\n",
              "      <td>ham</td>\n",
              "      <td>Ok lar... Joking wif u oni...</td>\n",
              "      <td>29</td>\n",
              "    </tr>\n",
              "    <tr>\n",
              "      <th>2</th>\n",
              "      <td>spam</td>\n",
              "      <td>Free entry in 2 a wkly comp to win FA Cup fina...</td>\n",
              "      <td>155</td>\n",
              "    </tr>\n",
              "    <tr>\n",
              "      <th>3</th>\n",
              "      <td>ham</td>\n",
              "      <td>U dun say so early hor... U c already then say...</td>\n",
              "      <td>49</td>\n",
              "    </tr>\n",
              "    <tr>\n",
              "      <th>4</th>\n",
              "      <td>ham</td>\n",
              "      <td>Nah I don't think he goes to usf, he lives aro...</td>\n",
              "      <td>61</td>\n",
              "    </tr>\n",
              "  </tbody>\n",
              "</table>\n",
              "</div>\n",
              "      <button class=\"colab-df-convert\" onclick=\"convertToInteractive('df-e0dc5b0d-386d-4f6f-8597-f86a229eec3a')\"\n",
              "              title=\"Convert this dataframe to an interactive table.\"\n",
              "              style=\"display:none;\">\n",
              "        \n",
              "  <svg xmlns=\"http://www.w3.org/2000/svg\" height=\"24px\"viewBox=\"0 0 24 24\"\n",
              "       width=\"24px\">\n",
              "    <path d=\"M0 0h24v24H0V0z\" fill=\"none\"/>\n",
              "    <path d=\"M18.56 5.44l.94 2.06.94-2.06 2.06-.94-2.06-.94-.94-2.06-.94 2.06-2.06.94zm-11 1L8.5 8.5l.94-2.06 2.06-.94-2.06-.94L8.5 2.5l-.94 2.06-2.06.94zm10 10l.94 2.06.94-2.06 2.06-.94-2.06-.94-.94-2.06-.94 2.06-2.06.94z\"/><path d=\"M17.41 7.96l-1.37-1.37c-.4-.4-.92-.59-1.43-.59-.52 0-1.04.2-1.43.59L10.3 9.45l-7.72 7.72c-.78.78-.78 2.05 0 2.83L4 21.41c.39.39.9.59 1.41.59.51 0 1.02-.2 1.41-.59l7.78-7.78 2.81-2.81c.8-.78.8-2.07 0-2.86zM5.41 20L4 18.59l7.72-7.72 1.47 1.35L5.41 20z\"/>\n",
              "  </svg>\n",
              "      </button>\n",
              "      \n",
              "  <style>\n",
              "    .colab-df-container {\n",
              "      display:flex;\n",
              "      flex-wrap:wrap;\n",
              "      gap: 12px;\n",
              "    }\n",
              "\n",
              "    .colab-df-convert {\n",
              "      background-color: #E8F0FE;\n",
              "      border: none;\n",
              "      border-radius: 50%;\n",
              "      cursor: pointer;\n",
              "      display: none;\n",
              "      fill: #1967D2;\n",
              "      height: 32px;\n",
              "      padding: 0 0 0 0;\n",
              "      width: 32px;\n",
              "    }\n",
              "\n",
              "    .colab-df-convert:hover {\n",
              "      background-color: #E2EBFA;\n",
              "      box-shadow: 0px 1px 2px rgba(60, 64, 67, 0.3), 0px 1px 3px 1px rgba(60, 64, 67, 0.15);\n",
              "      fill: #174EA6;\n",
              "    }\n",
              "\n",
              "    [theme=dark] .colab-df-convert {\n",
              "      background-color: #3B4455;\n",
              "      fill: #D2E3FC;\n",
              "    }\n",
              "\n",
              "    [theme=dark] .colab-df-convert:hover {\n",
              "      background-color: #434B5C;\n",
              "      box-shadow: 0px 1px 3px 1px rgba(0, 0, 0, 0.15);\n",
              "      filter: drop-shadow(0px 1px 2px rgba(0, 0, 0, 0.3));\n",
              "      fill: #FFFFFF;\n",
              "    }\n",
              "  </style>\n",
              "\n",
              "      <script>\n",
              "        const buttonEl =\n",
              "          document.querySelector('#df-e0dc5b0d-386d-4f6f-8597-f86a229eec3a button.colab-df-convert');\n",
              "        buttonEl.style.display =\n",
              "          google.colab.kernel.accessAllowed ? 'block' : 'none';\n",
              "\n",
              "        async function convertToInteractive(key) {\n",
              "          const element = document.querySelector('#df-e0dc5b0d-386d-4f6f-8597-f86a229eec3a');\n",
              "          const dataTable =\n",
              "            await google.colab.kernel.invokeFunction('convertToInteractive',\n",
              "                                                     [key], {});\n",
              "          if (!dataTable) return;\n",
              "\n",
              "          const docLinkHtml = 'Like what you see? Visit the ' +\n",
              "            '<a target=\"_blank\" href=https://colab.research.google.com/notebooks/data_table.ipynb>data table notebook</a>'\n",
              "            + ' to learn more about interactive tables.';\n",
              "          element.innerHTML = '';\n",
              "          dataTable['output_type'] = 'display_data';\n",
              "          await google.colab.output.renderOutput(dataTable, element);\n",
              "          const docLink = document.createElement('div');\n",
              "          docLink.innerHTML = docLinkHtml;\n",
              "          element.appendChild(docLink);\n",
              "        }\n",
              "      </script>\n",
              "    </div>\n",
              "  </div>\n",
              "  "
            ]
          },
          "metadata": {},
          "execution_count": 21
        }
      ]
    },
    {
      "cell_type": "markdown",
      "metadata": {
        "_uuid": "5e2f95355679b639ab482560c0d8d21a28272cd5",
        "id": "-3qzYFTdxLYX"
      },
      "source": [
        "## Now let's \"tokenize\" these messages. Tokenization is just the term used to describe the process of converting the normal text strings in to a list of tokens (words that we actually want)."
      ]
    },
    {
      "cell_type": "code",
      "metadata": {
        "colab": {
          "base_uri": "https://localhost:8080/"
        },
        "id": "kv16g_3JCvyu",
        "outputId": "1e75ebfe-afac-4707-e2ca-c23b6105b580"
      },
      "source": [
        "pd.set_option('display.max_colwidth', -1)"
      ],
      "execution_count": null,
      "outputs": [
        {
          "output_type": "stream",
          "name": "stderr",
          "text": [
            "<ipython-input-22-0891b765a168>:1: FutureWarning: Passing a negative integer is deprecated in version 1.0 and will not be supported in future version. Instead, use None to not limit the column width.\n",
            "  pd.set_option('display.max_colwidth', -1)\n"
          ]
        }
      ]
    },
    {
      "cell_type": "code",
      "metadata": {
        "id": "qEShz7APCW0X"
      },
      "source": [
        "message['tokenized_message'] = message['message'].apply(text_process)"
      ],
      "execution_count": null,
      "outputs": []
    },
    {
      "cell_type": "code",
      "metadata": {
        "colab": {
          "base_uri": "https://localhost:8080/",
          "height": 302
        },
        "id": "z5NC495DClx4",
        "outputId": "83bb442b-6614-4c52-eee6-99a6464780c3"
      },
      "source": [
        "message.head()"
      ],
      "execution_count": null,
      "outputs": [
        {
          "output_type": "execute_result",
          "data": {
            "text/plain": [
              "  label  \\\n",
              "0  ham    \n",
              "1  ham    \n",
              "2  spam   \n",
              "3  ham    \n",
              "4  ham    \n",
              "\n",
              "                                                                                                                                                       message  \\\n",
              "0  Go until jurong point, crazy.. Available only in bugis n great world la e buffet... Cine there got amore wat...                                               \n",
              "1  Ok lar... Joking wif u oni...                                                                                                                                 \n",
              "2  Free entry in 2 a wkly comp to win FA Cup final tkts 21st May 2005. Text FA to 87121 to receive entry question(std txt rate)T&C's apply 08452810075over18's   \n",
              "3  U dun say so early hor... U c already then say...                                                                                                             \n",
              "4  Nah I don't think he goes to usf, he lives around here though                                                                                                 \n",
              "\n",
              "   length  \\\n",
              "0  111      \n",
              "1  29       \n",
              "2  155      \n",
              "3  49       \n",
              "4  61       \n",
              "\n",
              "                                                                                                                         tokenized_message  \n",
              "0  Go jurong point crazy Available bugis n great world la e buffet Cine got amore wat                                                       \n",
              "1  Ok lar Joking wif u oni                                                                                                                  \n",
              "2  Free entry 2 wkly comp win FA Cup final tkts 21st May 2005 Text FA 87121 receive entry questionstd txt rateTCs apply 08452810075over18s  \n",
              "3  U dun say early hor U c already say                                                                                                      \n",
              "4  Nah dont think goes usf lives around though                                                                                              "
            ],
            "text/html": [
              "\n",
              "  <div id=\"df-136b240a-97b4-4321-af5c-1096f0128b85\">\n",
              "    <div class=\"colab-df-container\">\n",
              "      <div>\n",
              "<style scoped>\n",
              "    .dataframe tbody tr th:only-of-type {\n",
              "        vertical-align: middle;\n",
              "    }\n",
              "\n",
              "    .dataframe tbody tr th {\n",
              "        vertical-align: top;\n",
              "    }\n",
              "\n",
              "    .dataframe thead th {\n",
              "        text-align: right;\n",
              "    }\n",
              "</style>\n",
              "<table border=\"1\" class=\"dataframe\">\n",
              "  <thead>\n",
              "    <tr style=\"text-align: right;\">\n",
              "      <th></th>\n",
              "      <th>label</th>\n",
              "      <th>message</th>\n",
              "      <th>length</th>\n",
              "      <th>tokenized_message</th>\n",
              "    </tr>\n",
              "  </thead>\n",
              "  <tbody>\n",
              "    <tr>\n",
              "      <th>0</th>\n",
              "      <td>ham</td>\n",
              "      <td>Go until jurong point, crazy.. Available only in bugis n great world la e buffet... Cine there got amore wat...</td>\n",
              "      <td>111</td>\n",
              "      <td>Go jurong point crazy Available bugis n great world la e buffet Cine got amore wat</td>\n",
              "    </tr>\n",
              "    <tr>\n",
              "      <th>1</th>\n",
              "      <td>ham</td>\n",
              "      <td>Ok lar... Joking wif u oni...</td>\n",
              "      <td>29</td>\n",
              "      <td>Ok lar Joking wif u oni</td>\n",
              "    </tr>\n",
              "    <tr>\n",
              "      <th>2</th>\n",
              "      <td>spam</td>\n",
              "      <td>Free entry in 2 a wkly comp to win FA Cup final tkts 21st May 2005. Text FA to 87121 to receive entry question(std txt rate)T&amp;C's apply 08452810075over18's</td>\n",
              "      <td>155</td>\n",
              "      <td>Free entry 2 wkly comp win FA Cup final tkts 21st May 2005 Text FA 87121 receive entry questionstd txt rateTCs apply 08452810075over18s</td>\n",
              "    </tr>\n",
              "    <tr>\n",
              "      <th>3</th>\n",
              "      <td>ham</td>\n",
              "      <td>U dun say so early hor... U c already then say...</td>\n",
              "      <td>49</td>\n",
              "      <td>U dun say early hor U c already say</td>\n",
              "    </tr>\n",
              "    <tr>\n",
              "      <th>4</th>\n",
              "      <td>ham</td>\n",
              "      <td>Nah I don't think he goes to usf, he lives around here though</td>\n",
              "      <td>61</td>\n",
              "      <td>Nah dont think goes usf lives around though</td>\n",
              "    </tr>\n",
              "  </tbody>\n",
              "</table>\n",
              "</div>\n",
              "      <button class=\"colab-df-convert\" onclick=\"convertToInteractive('df-136b240a-97b4-4321-af5c-1096f0128b85')\"\n",
              "              title=\"Convert this dataframe to an interactive table.\"\n",
              "              style=\"display:none;\">\n",
              "        \n",
              "  <svg xmlns=\"http://www.w3.org/2000/svg\" height=\"24px\"viewBox=\"0 0 24 24\"\n",
              "       width=\"24px\">\n",
              "    <path d=\"M0 0h24v24H0V0z\" fill=\"none\"/>\n",
              "    <path d=\"M18.56 5.44l.94 2.06.94-2.06 2.06-.94-2.06-.94-.94-2.06-.94 2.06-2.06.94zm-11 1L8.5 8.5l.94-2.06 2.06-.94-2.06-.94L8.5 2.5l-.94 2.06-2.06.94zm10 10l.94 2.06.94-2.06 2.06-.94-2.06-.94-.94-2.06-.94 2.06-2.06.94z\"/><path d=\"M17.41 7.96l-1.37-1.37c-.4-.4-.92-.59-1.43-.59-.52 0-1.04.2-1.43.59L10.3 9.45l-7.72 7.72c-.78.78-.78 2.05 0 2.83L4 21.41c.39.39.9.59 1.41.59.51 0 1.02-.2 1.41-.59l7.78-7.78 2.81-2.81c.8-.78.8-2.07 0-2.86zM5.41 20L4 18.59l7.72-7.72 1.47 1.35L5.41 20z\"/>\n",
              "  </svg>\n",
              "      </button>\n",
              "      \n",
              "  <style>\n",
              "    .colab-df-container {\n",
              "      display:flex;\n",
              "      flex-wrap:wrap;\n",
              "      gap: 12px;\n",
              "    }\n",
              "\n",
              "    .colab-df-convert {\n",
              "      background-color: #E8F0FE;\n",
              "      border: none;\n",
              "      border-radius: 50%;\n",
              "      cursor: pointer;\n",
              "      display: none;\n",
              "      fill: #1967D2;\n",
              "      height: 32px;\n",
              "      padding: 0 0 0 0;\n",
              "      width: 32px;\n",
              "    }\n",
              "\n",
              "    .colab-df-convert:hover {\n",
              "      background-color: #E2EBFA;\n",
              "      box-shadow: 0px 1px 2px rgba(60, 64, 67, 0.3), 0px 1px 3px 1px rgba(60, 64, 67, 0.15);\n",
              "      fill: #174EA6;\n",
              "    }\n",
              "\n",
              "    [theme=dark] .colab-df-convert {\n",
              "      background-color: #3B4455;\n",
              "      fill: #D2E3FC;\n",
              "    }\n",
              "\n",
              "    [theme=dark] .colab-df-convert:hover {\n",
              "      background-color: #434B5C;\n",
              "      box-shadow: 0px 1px 3px 1px rgba(0, 0, 0, 0.15);\n",
              "      filter: drop-shadow(0px 1px 2px rgba(0, 0, 0, 0.3));\n",
              "      fill: #FFFFFF;\n",
              "    }\n",
              "  </style>\n",
              "\n",
              "      <script>\n",
              "        const buttonEl =\n",
              "          document.querySelector('#df-136b240a-97b4-4321-af5c-1096f0128b85 button.colab-df-convert');\n",
              "        buttonEl.style.display =\n",
              "          google.colab.kernel.accessAllowed ? 'block' : 'none';\n",
              "\n",
              "        async function convertToInteractive(key) {\n",
              "          const element = document.querySelector('#df-136b240a-97b4-4321-af5c-1096f0128b85');\n",
              "          const dataTable =\n",
              "            await google.colab.kernel.invokeFunction('convertToInteractive',\n",
              "                                                     [key], {});\n",
              "          if (!dataTable) return;\n",
              "\n",
              "          const docLinkHtml = 'Like what you see? Visit the ' +\n",
              "            '<a target=\"_blank\" href=https://colab.research.google.com/notebooks/data_table.ipynb>data table notebook</a>'\n",
              "            + ' to learn more about interactive tables.';\n",
              "          element.innerHTML = '';\n",
              "          dataTable['output_type'] = 'display_data';\n",
              "          await google.colab.output.renderOutput(dataTable, element);\n",
              "          const docLink = document.createElement('div');\n",
              "          docLink.innerHTML = docLinkHtml;\n",
              "          element.appendChild(docLink);\n",
              "        }\n",
              "      </script>\n",
              "    </div>\n",
              "  </div>\n",
              "  "
            ]
          },
          "metadata": {},
          "execution_count": 24
        }
      ]
    },
    {
      "cell_type": "markdown",
      "metadata": {
        "_uuid": "d2de9a06cee7a0f7a6e287c06c34d603c6a50e9a",
        "id": "uYnbIiZxxLYY"
      },
      "source": [
        "## <b> Vectorization </b>"
      ]
    },
    {
      "cell_type": "markdown",
      "metadata": {
        "trusted": true,
        "_uuid": "57e259f62b8798fb7fb68e4e2e9c1bb674cb8096",
        "id": "eyEH5XoBxLYY"
      },
      "source": [
        "### Currently, we have the messages as lists of tokens (also known as [lemmas](http://nlp.stanford.edu/IR-book/html/htmledition/stemming-and-lemmatization-1.html)) and now we need to convert each of those messages into a vector the SciKit Learn's algorithm models can work with.\n",
        "\n",
        "### Now we'll convert each message, represented as a list of tokens (lemmas) above, into a vector that machine learning models can understand.\n",
        "\n",
        "### We'll do that in three steps using the bag-of-words model:\n",
        "\n",
        "  1. ###  Count how many times does a word occur in each message (Known as term frequency)\n",
        "\n",
        "  2. ### Weigh the counts, so that frequent tokens get lower weight\n",
        "\n",
        "  3. ### Normalize the vectors to unit length, to abstract from the original text length (L2 norm)\n",
        "\n",
        "### Let's begin the first step:"
      ]
    },
    {
      "cell_type": "markdown",
      "metadata": {
        "trusted": true,
        "_uuid": "d5c29a92ec6ff08aae811ccd0acee3510209e9ef",
        "id": "eLthPgdJxLYY"
      },
      "source": [
        "### Each vector will have as many dimensions as there are unique words in the SMS corpus.  We will first use SciKit Learn's **CountVectorizer**. This model will convert a collection of text documents to a matrix of token counts.\n",
        "\n",
        "### We can imagine this as a 2-Dimensional matrix. Where the 1-dimension is the entire vocabulary (1 row per word) and the other dimension are the actual documents, in this case a column per text message.\n",
        "\n",
        "### For example:\n",
        "\n",
        "<table border = “1“>\n",
        "<tr>\n",
        "<th></th> <th>Word 1 Count</th> <th>Word 2 Count</th> <th>...</th> <th>Word N Count</th>\n",
        "</tr>\n",
        "<tr>\n",
        "<td><b>Message 1</b></td><td>0</td><td>1</td><td>...</td><td>0</td>\n",
        "</tr>\n",
        "<tr>\n",
        "<td><b>Message 2</b></td><td>0</td><td>0</td><td>...</td><td>0</td>\n",
        "</tr>\n",
        "<tr>\n",
        "<td><b>...</b></td> <td>1</td><td>2</td><td>...</td><td>0</td>\n",
        "</tr>\n",
        "<tr>\n",
        "<td><b>Message N</b></td> <td>0</td><td>1</td><td>...</td><td>1</td>\n",
        "</tr>\n",
        "</table>\n",
        "\n",
        "\n",
        "### Since there are so many messages, we can expect a lot of zero counts for the presence of that word in that document. Because of this, SciKit Learn will output a [Sparse Matrix](https://en.wikipedia.org/wiki/Sparse_matrix)."
      ]
    },
    {
      "cell_type": "code",
      "metadata": {
        "trusted": true,
        "_uuid": "6557e2a23e6ca8afbc89c076225174ab5d4e3fb9",
        "id": "mzsEAboyxLYZ"
      },
      "source": [
        "from sklearn.feature_extraction.text import CountVectorizer"
      ],
      "execution_count": null,
      "outputs": []
    },
    {
      "cell_type": "markdown",
      "metadata": {
        "_uuid": "1ce1441a52b679cda062b14fad0a0124f805c032",
        "id": "UnjrlffwxLYZ"
      },
      "source": [
        "### Let's take one text message and get its bag-of-words counts as a vector, putting to use our new `bow_transformer`:"
      ]
    },
    {
      "cell_type": "code",
      "metadata": {
        "id": "JFdOcz5JNt3C"
      },
      "source": [
        "#del vectorizer"
      ],
      "execution_count": null,
      "outputs": []
    },
    {
      "cell_type": "code",
      "metadata": {
        "trusted": true,
        "_uuid": "4b65ee4da31d8240d0c0bf15eb1efce5cc539be5",
        "id": "tr44OyLsxLYZ"
      },
      "source": [
        "vectorizer = CountVectorizer(max_df = 0.9,min_df = 10)\n",
        "X = vectorizer.fit_transform(message['tokenized_message'])"
      ],
      "execution_count": null,
      "outputs": []
    },
    {
      "cell_type": "code",
      "metadata": {
        "colab": {
          "base_uri": "https://localhost:8080/"
        },
        "id": "ubeepgghERsj",
        "outputId": "6d1b0b03-9cd7-49e0-a1fb-d3d240cfbea1"
      },
      "source": [
        "X.toarray()[4560:4562]"
      ],
      "execution_count": null,
      "outputs": [
        {
          "output_type": "execute_result",
          "data": {
            "text/plain": [
              "array([[0, 0, 0, ..., 0, 0, 0],\n",
              "       [0, 0, 0, ..., 0, 0, 0]])"
            ]
          },
          "metadata": {},
          "execution_count": 29
        }
      ]
    },
    {
      "cell_type": "code",
      "metadata": {
        "colab": {
          "base_uri": "https://localhost:8080/"
        },
        "id": "f12FlMktDqWS",
        "outputId": "7ed60cc7-bc75-456d-91e6-8ebadddb58e2"
      },
      "source": [
        "print(vectorizer.get_feature_names_out())"
      ],
      "execution_count": null,
      "outputs": [
        {
          "output_type": "stream",
          "name": "stdout",
          "text": [
            "['0800' '08000839402' '08000930705' '10' '100' '1000' '10p' '12' '12hrs'\n",
            " '150' '150p' '150pm' '150pmsg' '150ppm' '16' '18' '1st' '200' '2000'\n",
            " '2003' '250' '2nd' '300' '350' '500' '5000' '750' '800' '8007' '86688'\n",
            " '87066' 'abiola' 'able' 'abt' 'account' 'across' 'actually' 'address'\n",
            " 'admirer' 'aft' 'afternoon' 'age' 'ago' 'ah' 'aight' 'almost' 'alone'\n",
            " 'already' 'alright' 'also' 'always' 'amp' 'angry' 'another' 'ans'\n",
            " 'answer' 'anyone' 'anything' 'anytime' 'anyway' 'apply' 'ard' 'area'\n",
            " 'around' 'asap' 'ask' 'askd' 'asked' 'asking' 'ass' 'attempt' 'auction'\n",
            " 'available' 'await' 'award' 'awarded' 'away' 'awesome' 'b4' 'babe' 'baby'\n",
            " 'back' 'bad' 'bank' 'bath' 'bathe' 'bcoz' 'bday' 'beautiful' 'bed'\n",
            " 'believe' 'best' 'better' 'big' 'birthday' 'bit' 'bonus' 'book' 'booked'\n",
            " 'bored' 'bout' 'box' 'boy' 'boytoy' 'break' 'bring' 'brother' 'bslvyl'\n",
            " 'bt' 'bus' 'busy' 'buy' 'call' 'called' 'caller' 'calling' 'calls'\n",
            " 'camcorder' 'came' 'camera' 'cant' 'car' 'card' 'care' 'carlos' 'case'\n",
            " 'cash' 'cause' 'chance' 'change' 'charge' 'charged' 'chat' 'cheap'\n",
            " 'check' 'checking' 'chennai' 'chikku' 'choose' 'christmas' 'claim'\n",
            " 'class' 'close' 'club' 'code' 'collect' 'collection' 'college' 'colour'\n",
            " 'come' 'comes' 'comin' 'coming' 'comp' 'company' 'complimentary'\n",
            " 'computer' 'confirm' 'congrats' 'congratulations' 'contact' 'content'\n",
            " 'cool' 'correct' 'cos' 'cost' 'could' 'couple' 'course' 'coz' 'crave'\n",
            " 'crazy' 'credit' 'cs' 'cum' 'currently' 'customer' 'cut' 'da' 'dad'\n",
            " 'darlin' 'darren' 'dat' 'date' 'dating' 'day' 'days' 'de' 'dear'\n",
            " 'decided' 'deep' 'del' 'delivery' 'den' 'details' 'didnt' 'die'\n",
            " 'different' 'difficult' 'dinner' 'direct' 'dis' 'discount' 'dnt' 'doesnt'\n",
            " 'doin' 'done' 'dont' 'double' 'download' 'draw' 'dreams' 'drink' 'drive'\n",
            " 'driving' 'drop' 'drugs' 'dude' 'dun' 'dunno' 'earlier' 'early' 'easy'\n",
            " 'eat' 'eg' 'eh' 'either' 'else' 'em' 'email' 'end' 'ends' 'enjoy'\n",
            " 'enough' 'enter' 'entered' 'entry' 'etc' 'eve' 'even' 'evening' 'ever'\n",
            " 'every' 'everyone' 'everything' 'ex' 'exam' 'expires' 'extra' 'face'\n",
            " 'fact' 'family' 'fancy' 'fantastic' 'far' 'fast' 'feel' 'feeling' 'felt'\n",
            " 'film' 'final' 'finally' 'find' 'fine' 'finish' 'finished' 'first' 'fone'\n",
            " 'food' 'forget' 'forgot' 'found' 'fr' 'free' 'freemsg' 'fri' 'friday'\n",
            " 'friend' 'friends' 'friendship' 'frm' 'frnd' 'frnds' 'fuck' 'fucking'\n",
            " 'full' 'fun' 'game' 'games' 'gas' 'gave' 'gd' 'get' 'gets' 'getting'\n",
            " 'gift' 'girl' 'girls' 'give' 'glad' 'go' 'god' 'goes' 'goin' 'going'\n",
            " 'gone' 'gonna' 'good' 'goodmorning' 'got' 'gotta' 'gr8' 'great' 'grins'\n",
            " 'guaranteed' 'gud' 'guess' 'guy' 'guys' 'gym' 'ha' 'haf' 'haha' 'hair'\n",
            " 'half' 'hand' 'happen' 'happened' 'happiness' 'happy' 'hard' 'hav'\n",
            " 'havent' 'head' 'hear' 'heard' 'heart' 'hee' 'hell' 'hello' 'help' 'hes'\n",
            " 'hey' 'hi' 'hit' 'hmm' 'hold' 'holiday' 'home' 'hope' 'hospital' 'hot'\n",
            " 'hour' 'hours' 'house' 'hows' 'huh' 'hungry' 'hurt' 'id' 'identifier'\n",
            " 'ill' 'im' 'immediately' 'important' 'india' 'info' 'information'\n",
            " 'invited' 'ipod' 'isnt' 'ive' 'jay' 'job' 'join' 'jus' 'juz' 'kate'\n",
            " 'keep' 'kind' 'kiss' 'knew' 'know' 'knows' 'knw' 'land' 'landline'\n",
            " 'laptop' 'lar' 'last' 'late' 'later' 'latest' 'laugh' 'ldn' 'least'\n",
            " 'leave' 'leaves' 'leaving' 'left' 'leh' 'lei' 'lesson' 'let' 'lets'\n",
            " 'liao' 'life' 'light' 'like' 'line' 'link' 'listen' 'little' 'live'\n",
            " 'loads' 'log' 'lol' 'long' 'look' 'looking' 'lor' 'lose' 'lost' 'lot'\n",
            " 'lots' 'lovable' 'love' 'loved' 'lovely' 'loving' 'ltd' 'ltdecimalgt'\n",
            " 'ltgt' 'luck' 'lucky' 'lunch' 'luv' 'made' 'mah' 'mail' 'make' 'makes'\n",
            " 'making' 'man' 'many' 'march' 'match' 'mate' 'mates' 'may' 'mayb' 'maybe'\n",
            " 'mean' 'means' 'meant' 'meet' 'meeting' 'message' 'messages' 'met'\n",
            " 'might' 'min' 'mind' 'mine' 'mins' 'minute' 'minutes' 'miss' 'missed'\n",
            " 'missing' 'mm' 'mob' 'mobile' 'mobiles' 'mobileupd8' 'mom' 'moment'\n",
            " 'monday' 'money' 'month' 'months' 'morning' 'motorola' 'move' 'movie'\n",
            " 'mr' 'mrng' 'msg' 'msgs' 'mu' 'much' 'mum' 'music' 'must' 'muz' 'nah'\n",
            " 'name' 'national' 'need' 'needs' 'network' 'neva' 'never' 'new' 'news'\n",
            " 'next' 'ni8' 'nice' 'night' 'nite' 'noe' 'nokia' 'nope' 'nothing' 'nt'\n",
            " 'ntt' 'number' 'numbers' 'offer' 'offers' 'office' 'oh' 'ok' 'okay'\n",
            " 'okie' 'old' 'one' 'ones' 'online' 'oops' 'open' 'operator' 'opt'\n",
            " 'orange' 'orchard' 'order' 'oredi' 'oso' 'otherwise' 'outside' 'pa'\n",
            " 'pain' 'parents' 'park' 'part' 'party' 'pass' 'pay' 'people' 'per'\n",
            " 'person' 'phone' 'phones' 'pic' 'pick' 'picking' 'pics' 'place' 'plan'\n",
            " 'plans' 'play' 'player' 'please' 'pls' 'plus' 'plz' 'pm' 'po' 'pobox'\n",
            " 'point' 'points' 'poly' 'post' 'pounds' 'press' 'pretty' 'price'\n",
            " 'princess' 'private' 'prize' 'prob' 'probably' 'problem' 'project' 'pub'\n",
            " 'put' 'question' 'questions' 'quite' 'quiz' 'rate' 'rates' 'reach'\n",
            " 'reached' 'read' 'reading' 'ready' 'real' 'really' 'reason' 'receive'\n",
            " 'remember' 'remove' 'rental' 'reply' 'representative' 'right' 'ring'\n",
            " 'ringtone' 'rite' 'room' 'rply' 'run' 'sad' 'sae' 'safe' 'said' 'sat'\n",
            " 'saturday' 'save' 'saw' 'say' 'saying' 'says' 'sch' 'school' 'sea'\n",
            " 'search' 'second' 'secret' 'see' 'seeing' 'seen' 'selected' 'semester'\n",
            " 'send' 'sending' 'sent' 'service' 'services' 'set' 'sex' 'sexy' 'shall'\n",
            " 'shes' 'shit' 'shop' 'shopping' 'show' 'shower' 'shows' 'side' 'sim'\n",
            " 'simple' 'since' 'sir' 'sis' 'sister' 'sleep' 'sleeping' 'slow' 'slowly'\n",
            " 'small' 'smile' 'smiling' 'smoke' 'sms' 'smth' 'snow' 'somebody'\n",
            " 'someone' 'something' 'somewhere' 'song' 'soon' 'sorry' 'sort' 'sound'\n",
            " 'sounds' 'speak' 'special' 'spend' 'st' 'start' 'started' 'statement'\n",
            " 'stay' 'still' 'stop' 'store' 'story' 'stuff' 'stupid' 'sun' 'support'\n",
            " 'supposed' 'sure' 'surprise' 'sweet' 'swing' 'take' 'takes' 'taking'\n",
            " 'talk' 'talking' 'tc' 'tcs' 'tel' 'tell' 'telling' 'ten' 'terms' 'test'\n",
            " 'text' 'texts' 'th' 'thank' 'thanks' 'thanx' 'thats' 'theres' 'thing'\n",
            " 'things' 'think' 'thinking' 'thinks' 'thk' 'tho' 'though' 'thought'\n",
            " 'tickets' 'til' 'till' 'time' 'times' 'tired' 'tmr' 'today' 'todays'\n",
            " 'together' 'told' 'tomo' 'tomorrow' 'tone' 'tones' 'tonight' 'took' 'top'\n",
            " 'tot' 'touch' 'town' 'treat' 'tried' 'trip' 'true' 'truth' 'try' 'trying'\n",
            " 'tscs' 'tv' 'two' 'txt' 'txting' 'txts' 'type' 'ugh' 'uk' 'uks' 'uncle'\n",
            " 'understand' 'unlimited' 'unredeemed' 'unsubscribe' 'update' 'ur' 'ure'\n",
            " 'urgent' 'us' 'use' 'used' 'usf' 'valentines' 'valid' 'valued' 'via'\n",
            " 'video' 'visit' 'voice' 'voucher' 'vouchers' 'wait' 'waiting' 'wake'\n",
            " 'walk' 'wan' 'wana' 'wanna' 'want' 'wanted' 'wants' 'warm' 'wasnt' 'wat'\n",
            " 'watch' 'watching' 'water' 'wats' 'way' 'wed' 'week' 'weekend' 'weekends'\n",
            " 'weekly' 'weeks' 'welcome' 'well' 'wen' 'went' 'whatever' 'whats'\n",
            " 'whenever' 'whole' 'whos' 'wid' 'wif' 'wife' 'wil' 'win' 'wine' 'winner'\n",
            " 'wish' 'wishing' 'wit' 'within' 'without' 'wk' 'wkly' 'woke' 'wonder'\n",
            " 'wonderful' 'wont' 'word' 'words' 'work' 'working' 'world' 'worry'\n",
            " 'worth' 'wot' 'would' 'wow' 'write' 'wrong' 'xmas' 'xx' 'xxx' 'ya' 'yar'\n",
            " 'yeah' 'year' 'years' 'yep' 'yes' 'yesterday' 'yet' 'yo' 'youll' 'youre'\n",
            " 'youve' 'yr' 'yup' 'ìï']\n"
          ]
        }
      ]
    },
    {
      "cell_type": "code",
      "metadata": {
        "colab": {
          "base_uri": "https://localhost:8080/"
        },
        "id": "baqeY1_NDthi",
        "outputId": "cded8315-f170-4c17-fbea-a86b41d4201c"
      },
      "source": [
        "len(vectorizer.get_feature_names_out())"
      ],
      "execution_count": null,
      "outputs": [
        {
          "output_type": "execute_result",
          "data": {
            "text/plain": [
              "872"
            ]
          },
          "metadata": {},
          "execution_count": 18
        }
      ]
    },
    {
      "cell_type": "code",
      "metadata": {
        "colab": {
          "base_uri": "https://localhost:8080/"
        },
        "id": "oJ8tf5mBNFPF",
        "outputId": "c0e788dd-b764-46db-9301-5c032e9d8d84"
      },
      "source": [
        "X.toarray().shape"
      ],
      "execution_count": null,
      "outputs": [
        {
          "output_type": "execute_result",
          "data": {
            "text/plain": [
              "(5572, 872)"
            ]
          },
          "metadata": {},
          "execution_count": 30
        }
      ]
    },
    {
      "cell_type": "code",
      "metadata": {
        "id": "a0G5X5aMMTS_"
      },
      "source": [
        "import sys\n",
        "import numpy\n",
        "numpy.set_printoptions(threshold=sys.maxsize)"
      ],
      "execution_count": null,
      "outputs": []
    },
    {
      "cell_type": "code",
      "metadata": {
        "colab": {
          "base_uri": "https://localhost:8080/",
          "height": 35
        },
        "id": "ZK_aF8jnNKmy",
        "outputId": "1e56798e-e748-4770-f005-04cf8d26932d"
      },
      "source": [
        "message.iloc[4065]['tokenized_message']"
      ],
      "execution_count": null,
      "outputs": [
        {
          "output_type": "execute_result",
          "data": {
            "text/plain": [
              "'Fyi Im gonna call sporadically starting like ltgt bc doin shit'"
            ],
            "application/vnd.google.colaboratory.intrinsic+json": {
              "type": "string"
            }
          },
          "metadata": {},
          "execution_count": 32
        }
      ]
    },
    {
      "cell_type": "code",
      "metadata": {
        "colab": {
          "base_uri": "https://localhost:8080/"
        },
        "id": "qRa--2B7HEfj",
        "outputId": "f1eaebe0-ab7e-4603-c451-37fc694e5869"
      },
      "source": [
        "sum(X.toarray()[4065])"
      ],
      "execution_count": null,
      "outputs": [
        {
          "output_type": "execute_result",
          "data": {
            "text/plain": [
              "7"
            ]
          },
          "metadata": {},
          "execution_count": 33
        }
      ]
    },
    {
      "cell_type": "code",
      "metadata": {
        "colab": {
          "base_uri": "https://localhost:8080/"
        },
        "id": "MkSfQxcyM8Zd",
        "outputId": "0a126c5e-6d27-4896-c288-ae630d03f459"
      },
      "source": [
        "X.toarray()[4065]"
      ],
      "execution_count": null,
      "outputs": [
        {
          "output_type": "execute_result",
          "data": {
            "text/plain": [
              "array([0, 0, 0, 0, 0, 0, 0, 0, 0, 0, 0, 0, 0, 0, 0, 0, 0, 0, 0, 0, 0, 0,\n",
              "       0, 0, 0, 0, 0, 0, 0, 0, 0, 0, 0, 0, 0, 0, 0, 0, 0, 0, 0, 0, 0, 0,\n",
              "       0, 0, 0, 0, 0, 0, 0, 0, 0, 0, 0, 0, 0, 0, 0, 0, 0, 0, 0, 0, 0, 0,\n",
              "       0, 0, 0, 0, 0, 0, 0, 0, 0, 0, 0, 0, 0, 0, 0, 0, 0, 0, 0, 0, 0, 0,\n",
              "       0, 0, 0, 0, 0, 0, 0, 0, 0, 0, 0, 0, 0, 0, 0, 0, 0, 0, 0, 0, 0, 0,\n",
              "       0, 0, 1, 0, 0, 0, 0, 0, 0, 0, 0, 0, 0, 0, 0, 0, 0, 0, 0, 0, 0, 0,\n",
              "       0, 0, 0, 0, 0, 0, 0, 0, 0, 0, 0, 0, 0, 0, 0, 0, 0, 0, 0, 0, 0, 0,\n",
              "       0, 0, 0, 0, 0, 0, 0, 0, 0, 0, 0, 0, 0, 0, 0, 0, 0, 0, 0, 0, 0, 0,\n",
              "       0, 0, 0, 0, 0, 0, 0, 0, 0, 0, 0, 0, 0, 0, 0, 0, 0, 0, 0, 0, 0, 0,\n",
              "       0, 0, 0, 0, 0, 0, 0, 1, 0, 0, 0, 0, 0, 0, 0, 0, 0, 0, 0, 0, 0, 0,\n",
              "       0, 0, 0, 0, 0, 0, 0, 0, 0, 0, 0, 0, 0, 0, 0, 0, 0, 0, 0, 0, 0, 0,\n",
              "       0, 0, 0, 0, 0, 0, 0, 0, 0, 0, 0, 0, 0, 0, 0, 0, 0, 0, 0, 0, 0, 0,\n",
              "       0, 0, 0, 0, 0, 0, 0, 0, 0, 0, 0, 0, 0, 0, 0, 0, 0, 0, 0, 0, 0, 0,\n",
              "       0, 0, 0, 0, 0, 0, 0, 0, 0, 0, 0, 0, 0, 0, 0, 0, 0, 0, 0, 0, 1, 0,\n",
              "       0, 0, 0, 0, 0, 0, 0, 0, 0, 0, 0, 0, 0, 0, 0, 0, 0, 0, 0, 0, 0, 0,\n",
              "       0, 0, 0, 0, 0, 0, 0, 0, 0, 0, 0, 0, 0, 0, 0, 0, 0, 0, 0, 0, 0, 0,\n",
              "       0, 0, 0, 0, 0, 0, 0, 0, 0, 0, 1, 0, 0, 0, 0, 0, 0, 0, 0, 0, 0, 0,\n",
              "       0, 0, 0, 0, 0, 0, 0, 0, 0, 0, 0, 0, 0, 0, 0, 0, 0, 0, 0, 0, 0, 0,\n",
              "       0, 0, 0, 0, 0, 0, 0, 0, 0, 0, 0, 0, 1, 0, 0, 0, 0, 0, 0, 0, 0, 0,\n",
              "       0, 0, 0, 0, 0, 0, 0, 0, 0, 0, 0, 0, 0, 0, 1, 0, 0, 0, 0, 0, 0, 0,\n",
              "       0, 0, 0, 0, 0, 0, 0, 0, 0, 0, 0, 0, 0, 0, 0, 0, 0, 0, 0, 0, 0, 0,\n",
              "       0, 0, 0, 0, 0, 0, 0, 0, 0, 0, 0, 0, 0, 0, 0, 0, 0, 0, 0, 0, 0, 0,\n",
              "       0, 0, 0, 0, 0, 0, 0, 0, 0, 0, 0, 0, 0, 0, 0, 0, 0, 0, 0, 0, 0, 0,\n",
              "       0, 0, 0, 0, 0, 0, 0, 0, 0, 0, 0, 0, 0, 0, 0, 0, 0, 0, 0, 0, 0, 0,\n",
              "       0, 0, 0, 0, 0, 0, 0, 0, 0, 0, 0, 0, 0, 0, 0, 0, 0, 0, 0, 0, 0, 0,\n",
              "       0, 0, 0, 0, 0, 0, 0, 0, 0, 0, 0, 0, 0, 0, 0, 0, 0, 0, 0, 0, 0, 0,\n",
              "       0, 0, 0, 0, 0, 0, 0, 0, 0, 0, 0, 0, 0, 0, 0, 0, 0, 0, 0, 0, 0, 0,\n",
              "       0, 0, 0, 0, 0, 0, 0, 0, 0, 0, 0, 0, 0, 0, 0, 0, 0, 0, 0, 0, 0, 0,\n",
              "       0, 0, 0, 0, 0, 0, 0, 0, 0, 0, 0, 0, 0, 0, 0, 0, 0, 0, 0, 0, 0, 0,\n",
              "       0, 0, 0, 0, 0, 0, 0, 1, 0, 0, 0, 0, 0, 0, 0, 0, 0, 0, 0, 0, 0, 0,\n",
              "       0, 0, 0, 0, 0, 0, 0, 0, 0, 0, 0, 0, 0, 0, 0, 0, 0, 0, 0, 0, 0, 0,\n",
              "       0, 0, 0, 0, 0, 0, 0, 0, 0, 0, 0, 0, 0, 0, 0, 0, 0, 0, 0, 0, 0, 0,\n",
              "       0, 0, 0, 0, 0, 0, 0, 0, 0, 0, 0, 0, 0, 0, 0, 0, 0, 0, 0, 0, 0, 0,\n",
              "       0, 0, 0, 0, 0, 0, 0, 0, 0, 0, 0, 0, 0, 0, 0, 0, 0, 0, 0, 0, 0, 0,\n",
              "       0, 0, 0, 0, 0, 0, 0, 0, 0, 0, 0, 0, 0, 0, 0, 0, 0, 0, 0, 0, 0, 0,\n",
              "       0, 0, 0, 0, 0, 0, 0, 0, 0, 0, 0, 0, 0, 0, 0, 0, 0, 0, 0, 0, 0, 0,\n",
              "       0, 0, 0, 0, 0, 0, 0, 0, 0, 0, 0, 0, 0, 0, 0, 0, 0, 0, 0, 0, 0, 0,\n",
              "       0, 0, 0, 0, 0, 0, 0, 0, 0, 0, 0, 0, 0, 0, 0, 0, 0, 0, 0, 0, 0, 0,\n",
              "       0, 0, 0, 0, 0, 0, 0, 0, 0, 0, 0, 0, 0, 0, 0, 0, 0, 0, 0, 0, 0, 0,\n",
              "       0, 0, 0, 0, 0, 0, 0, 0, 0, 0, 0, 0, 0, 0])"
            ]
          },
          "metadata": {},
          "execution_count": 34
        }
      ]
    },
    {
      "cell_type": "code",
      "metadata": {
        "colab": {
          "base_uri": "https://localhost:8080/"
        },
        "id": "iKiNt_cYNXYo",
        "outputId": "2d29202d-328f-4f63-cc7e-573060dd2881"
      },
      "source": [
        "sum(X.toarray()[4560])"
      ],
      "execution_count": null,
      "outputs": [
        {
          "output_type": "execute_result",
          "data": {
            "text/plain": [
              "10"
            ]
          },
          "metadata": {},
          "execution_count": 35
        }
      ]
    },
    {
      "cell_type": "code",
      "metadata": {
        "trusted": true,
        "_uuid": "5168fb4ad641f712b5d9e6268bf02ea96fdfac62",
        "id": "vXd5fwiMxLYc",
        "colab": {
          "base_uri": "https://localhost:8080/"
        },
        "outputId": "2dfe3cbc-3c36-40a2-edeb-d69551b48a5e"
      },
      "source": [
        "print(vectorizer.get_feature_names_out()[850])\n",
        "print(vectorizer.get_feature_names_out()[840])"
      ],
      "execution_count": null,
      "outputs": [
        {
          "output_type": "stream",
          "name": "stdout",
          "text": [
            "wow\n",
            "wont\n"
          ]
        }
      ]
    },
    {
      "cell_type": "markdown",
      "metadata": {
        "_uuid": "b830e24a445ee72dd3fb62104f1b41cc0c3b1fb8",
        "id": "MGdSoXrjxLYf"
      },
      "source": [
        "## <b>Training a model</b>\n",
        "\n",
        "### Firstly we will do the usual train test split"
      ]
    },
    {
      "cell_type": "code",
      "metadata": {
        "trusted": true,
        "_uuid": "1220b3cc2df7226c69142385389249f6184431f0",
        "id": "n0kFql08xLYh"
      },
      "source": [
        "from sklearn.model_selection import train_test_split\n",
        "msg_train,msg_test,label_train,label_test = train_test_split(message['tokenized_message'],message['label'],test_size=0.2)"
      ],
      "execution_count": null,
      "outputs": []
    },
    {
      "cell_type": "code",
      "metadata": {
        "colab": {
          "base_uri": "https://localhost:8080/"
        },
        "id": "kMNDcMXLGW-J",
        "outputId": "d8651469-dde0-4a59-e229-29c8d969b479"
      },
      "source": [
        "msg_train.head()"
      ],
      "execution_count": null,
      "outputs": [
        {
          "output_type": "execute_result",
          "data": {
            "text/plain": [
              "3015    ltgt fast approaching Wish u Happy New Year Happy Sankranti Happy republic day Happy Valentines Day Happy Shivratri Happy Ugadi Happy Fools day Happy May Day Happy Independence Day Happy FriendshipMotherFatherTeachersChildrens Day amp HAPPY BIRTHDAY 4 U Happy Ganesh festival Happy Dasara Happy Diwali Happy Christmas ltgt Good Mornings Afternoons Evenings Nights RememberI first WISHING U THESEyours Raj\n",
              "2090    Skallis wont play first two odi                                                                                                                                                                                                                                                                                                                                                                                     \n",
              "4535    Never blame day ur life Good days give u happiness Bad days give u experience essential life Gods blessings good morning                                                                                                                                                                                                                                                                                            \n",
              "2861    Adult 18 Content video shortly                                                                                                                                                                                                                                                                                                                                                                                      \n",
              "841     Pls send comprehensive mail im paying much                                                                                                                                                                                                                                                                                                                                                                          \n",
              "Name: tokenized_message, dtype: object"
            ]
          },
          "metadata": {},
          "execution_count": 29
        }
      ]
    },
    {
      "cell_type": "markdown",
      "metadata": {
        "_uuid": "e2c83a25b80617a905e8c15938de7347b0b7c5e5",
        "id": "rg7fczqpxLYf"
      },
      "source": [
        "### With messages represented as vectors, we can finally train our spam/ham classifier. Now we can use Naive Bayes Classifier to perform this classification task"
      ]
    },
    {
      "cell_type": "code",
      "metadata": {
        "id": "1EptnJgdGMUS"
      },
      "source": [
        "train_vectorized = vectorizer.transform(msg_train)\n",
        "test_vectorized = vectorizer.transform(msg_test)"
      ],
      "execution_count": null,
      "outputs": []
    },
    {
      "cell_type": "code",
      "metadata": {
        "colab": {
          "base_uri": "https://localhost:8080/"
        },
        "id": "wuEx9PrvGhRh",
        "outputId": "b41c5267-7707-4b8c-ca92-3e62daff0093"
      },
      "source": [
        "train_vectorized"
      ],
      "execution_count": null,
      "outputs": [
        {
          "output_type": "execute_result",
          "data": {
            "text/plain": [
              "<4457x872 sparse matrix of type '<class 'numpy.int64'>'\n",
              "\twith 24539 stored elements in Compressed Sparse Row format>"
            ]
          },
          "metadata": {},
          "execution_count": 31
        }
      ]
    },
    {
      "cell_type": "code",
      "metadata": {
        "id": "ltHiuyb2Gdxg"
      },
      "source": [
        "train_array= train_vectorized.toarray()\n",
        "test_array = test_vectorized.toarray()"
      ],
      "execution_count": null,
      "outputs": []
    },
    {
      "cell_type": "code",
      "source": [
        "print(train_array[7])"
      ],
      "metadata": {
        "colab": {
          "base_uri": "https://localhost:8080/"
        },
        "id": "nMjYpcH7-jYl",
        "outputId": "e1620f9d-f242-4913-9344-58790159be3d"
      },
      "execution_count": null,
      "outputs": [
        {
          "output_type": "stream",
          "name": "stdout",
          "text": [
            "[0 0 0 0 0 0 0 0 0 0 0 0 0 0 0 0 0 0 0 0 0 0 0 0 0 0 0 0 0 0 0 0 0 0 0 0 0\n",
            " 0 0 0 0 0 0 0 0 0 0 0 0 0 0 0 0 0 0 0 0 0 0 0 0 0 0 0 0 0 0 0 0 0 0 0 0 0\n",
            " 0 0 0 0 0 0 0 0 0 0 0 0 0 0 0 0 0 0 0 0 0 0 0 0 0 0 0 0 0 0 0 0 0 0 0 0 0\n",
            " 0 0 0 0 0 0 0 0 0 0 0 0 0 0 0 0 0 0 0 0 0 0 0 0 0 0 0 0 0 0 0 0 0 0 0 0 0\n",
            " 0 0 0 0 0 0 0 0 0 0 0 0 0 0 0 0 0 0 0 0 0 0 0 0 0 0 0 0 0 0 0 0 0 0 0 0 0\n",
            " 0 0 0 0 0 0 0 0 0 0 0 0 0 0 0 0 0 0 0 0 0 0 0 0 0 0 0 0 0 0 0 0 0 0 0 0 0\n",
            " 0 0 0 0 0 0 0 0 0 0 0 0 0 0 0 0 0 0 0 0 0 0 0 0 0 0 0 0 0 0 0 0 0 0 0 0 0\n",
            " 0 0 0 0 0 0 0 0 0 0 0 0 0 0 0 0 0 0 0 0 0 0 0 0 0 0 0 0 0 0 0 0 0 0 0 0 0\n",
            " 0 0 0 0 0 0 0 0 0 0 0 0 0 0 0 0 0 0 0 0 0 0 0 0 0 0 0 0 0 0 0 0 0 0 0 0 0\n",
            " 0 0 0 0 0 0 0 0 0 0 0 0 0 0 0 0 0 0 0 0 0 0 0 0 0 0 0 0 0 0 0 0 0 0 0 0 0\n",
            " 0 0 0 0 0 0 0 0 0 0 0 0 0 0 0 0 0 0 0 0 0 0 0 0 0 0 0 0 0 0 0 0 0 0 0 0 0\n",
            " 0 0 0 0 0 0 0 0 0 0 0 0 0 0 0 0 0 0 0 0 0 0 0 0 0 0 0 0 0 0 0 0 0 0 0 0 0\n",
            " 0 0 0 0 0 0 0 0 0 0 0 0 0 0 0 0 0 0 0 0 0 0 0 0 0 0 0 0 0 0 0 0 0 0 0 0 0\n",
            " 0 0 0 0 0 0 0 0 0 0 0 0 0 0 0 0 0 0 0 0 0 0 0 0 0 0 0 0 1 0 0 0 0 0 0 0 0\n",
            " 0 0 0 0 0 0 0 0 0 0 0 0 0 0 0 0 0 0 0 0 0 0 0 0 0 0 0 0 0 0 0 0 0 0 0 0 0\n",
            " 0 0 0 0 0 0 0 0 0 0 0 0 0 0 0 0 0 0 0 0 0 0 0 0 0 0 0 0 0 0 0 0 0 0 0 0 0\n",
            " 0 0 0 0 0 0 0 0 0 0 0 0 0 0 0 0 0 0 0 0 0 0 0 0 0 0 0 0 0 0 0 0 0 0 0 0 0\n",
            " 0 0 0 0 0 0 0 0 0 0 0 0 0 0 0 0 0 0 0 0 0 0 0 0 0 0 0 0 0 0 0 0 0 0 0 0 0\n",
            " 0 0 0 0 0 0 0 0 0 0 0 0 0 0 0 0 0 0 0 0 0 0 0 0 0 0 0 0 0 0 0 0 0 0 0 0 0\n",
            " 0 0 0 0 0 0 0 0 0 0 0 0 0 0 0 0 0 0 0 0 0 0 0 0 0 0 0 0 0 0 0 0 0 0 0 0 0\n",
            " 0 0 0 0 0 0 0 0 0 0 0 0 0 0 0 0 0 0 0 0 0 0 0 0 0 0 0 0 0 0 0 0 0 0 0 0 0\n",
            " 0 0 0 0 0 0 0 0 0 0 0 0 0 0 0 0 0 0 0 0 0 0 0 0 0 0 0 0 0 0 0 0 0 0 0 0 0\n",
            " 0 0 0 0 0 0 0 0 0 0 0 0 0 0 0 0 0 0 0 0 0 0 0 0 0 0 0 0 0 0 0 0 0 0 0 0 0\n",
            " 0 0 0 0 0 0 0 0 0 0 0 0 0 0 0 0 0 0 0 0 0]\n"
          ]
        }
      ]
    },
    {
      "cell_type": "code",
      "metadata": {
        "trusted": true,
        "_uuid": "9ae436fe7af2fca2dc7b0fd25d44567c88aa24b8",
        "id": "HLrQuWVyxLYf"
      },
      "source": [
        "from sklearn.naive_bayes import GaussianNB\n",
        "spam_detect_model = GaussianNB().fit(train_array,label_train)"
      ],
      "execution_count": null,
      "outputs": []
    },
    {
      "cell_type": "code",
      "metadata": {
        "id": "koOOJdf0FTks"
      },
      "source": [
        "train_preds = spam_detect_model.predict(train_array)\n",
        "test_preds = spam_detect_model.predict(test_array)"
      ],
      "execution_count": null,
      "outputs": []
    },
    {
      "cell_type": "code",
      "metadata": {
        "trusted": true,
        "_uuid": "03ac047e8e9e996e7723e901bf00fd7478ab9755",
        "id": "SCJo7wD7xLYg"
      },
      "source": [
        "from sklearn.metrics import classification_report,confusion_matrix"
      ],
      "execution_count": null,
      "outputs": []
    },
    {
      "cell_type": "code",
      "metadata": {
        "colab": {
          "base_uri": "https://localhost:8080/"
        },
        "id": "Mb0ocgK0G8Vk",
        "outputId": "c7a3da04-a596-4f27-deef-420184612caa"
      },
      "source": [
        "# Confusion matrices for train and test\n",
        "\n",
        "print(confusion_matrix(label_train,train_preds))\n",
        "print(confusion_matrix(label_test,test_preds))"
      ],
      "execution_count": null,
      "outputs": [
        {
          "output_type": "stream",
          "name": "stdout",
          "text": [
            "[[2941  933]\n",
            " [   0  583]]\n",
            "[[719 232]\n",
            " [  7 157]]\n"
          ]
        }
      ]
    },
    {
      "cell_type": "code",
      "metadata": {
        "colab": {
          "base_uri": "https://localhost:8080/"
        },
        "id": "tXUONUulFoBm",
        "outputId": "d31c9625-c330-47a0-b43f-5dc010475559"
      },
      "source": [
        "# Print the classification report for train and test\n",
        "print(classification_report(label_train,train_preds))\n",
        "print(\"\\n\")\n",
        "print(classification_report(label_test,test_preds))"
      ],
      "execution_count": null,
      "outputs": [
        {
          "output_type": "stream",
          "name": "stdout",
          "text": [
            "              precision    recall  f1-score   support\n",
            "\n",
            "         ham       1.00      0.76      0.86      3874\n",
            "        spam       0.38      1.00      0.56       583\n",
            "\n",
            "    accuracy                           0.79      4457\n",
            "   macro avg       0.69      0.88      0.71      4457\n",
            "weighted avg       0.92      0.79      0.82      4457\n",
            "\n",
            "\n",
            "\n",
            "              precision    recall  f1-score   support\n",
            "\n",
            "         ham       0.99      0.76      0.86       951\n",
            "        spam       0.40      0.96      0.57       164\n",
            "\n",
            "    accuracy                           0.79      1115\n",
            "   macro avg       0.70      0.86      0.71      1115\n",
            "weighted avg       0.90      0.79      0.81      1115\n",
            "\n"
          ]
        }
      ]
    },
    {
      "cell_type": "code",
      "metadata": {
        "id": "LWISNLP4OIrP"
      },
      "source": [],
      "execution_count": null,
      "outputs": []
    }
  ]
}