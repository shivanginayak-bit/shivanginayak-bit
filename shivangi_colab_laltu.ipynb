{
  "nbformat": 4,
  "nbformat_minor": 0,
  "metadata": {
    "colab": {
      "provenance": [],
      "include_colab_link": true
    },
    "kernelspec": {
      "name": "python3",
      "display_name": "Python 3"
    },
    "language_info": {
      "name": "python"
    },
    "gpuClass": "standard"
  },
  "cells": [
    {
      "cell_type": "markdown",
      "metadata": {
        "id": "view-in-github",
        "colab_type": "text"
      },
      "source": [
        "<a href=\"https://colab.research.google.com/github/shivanginayak-bit/shivanginayak-bit/blob/main/shivangi_colab_laltu.ipynb\" target=\"_parent\"><img src=\"https://colab.research.google.com/assets/colab-badge.svg\" alt=\"Open In Colab\"/></a>"
      ]
    },
    {
      "cell_type": "code",
      "source": [
        "number = 10"
      ],
      "metadata": {
        "id": "uv4hxQrVloBy"
      },
      "execution_count": null,
      "outputs": []
    },
    {
      "cell_type": "markdown",
      "source": [
        "\n"
      ],
      "metadata": {
        "id": "x8QFktFEUqRA"
      }
    },
    {
      "cell_type": "markdown",
      "source": [],
      "metadata": {
        "id": "DEK7ZkJNUpuG"
      }
    },
    {
      "cell_type": "markdown",
      "source": [],
      "metadata": {
        "id": "FnLnoVi4UpsB"
      }
    },
    {
      "cell_type": "markdown",
      "source": [],
      "metadata": {
        "id": "jIfP9qhDUppm"
      }
    },
    {
      "cell_type": "code",
      "source": [],
      "metadata": {
        "id": "Foq_TMLjXJgT"
      },
      "execution_count": null,
      "outputs": []
    },
    {
      "cell_type": "code",
      "source": [
        "from google.colab import drive\n",
        "drive.mount('/content/drive')"
      ],
      "metadata": {
        "colab": {
          "base_uri": "https://localhost:8080/"
        },
        "id": "ohHT3CDMbec3",
        "outputId": "63b9ea24-9f10-4b09-b538-dce08f3560e5"
      },
      "execution_count": null,
      "outputs": [
        {
          "output_type": "stream",
          "name": "stdout",
          "text": [
            "Mounted at /content/drive\n"
          ]
        }
      ]
    },
    {
      "cell_type": "code",
      "source": [
        "file_path=/content/dive/MyDrive/sample_data/imdb_data.csv"
      ],
      "metadata": {
        "colab": {
          "base_uri": "https://localhost:8080/",
          "height": 135
        },
        "id": "DdLmUdQmey9s",
        "outputId": "54383ba5-f6d5-45b6-94f2-2a41083c5a1a"
      },
      "execution_count": null,
      "outputs": [
        {
          "output_type": "error",
          "ename": "SyntaxError",
          "evalue": "ignored",
          "traceback": [
            "\u001b[0;36m  File \u001b[0;32m\"<ipython-input-6-07e4f854c501>\"\u001b[0;36m, line \u001b[0;32m1\u001b[0m\n\u001b[0;31m    file_path=/content/MyDrive/sample_data/imdb_data.csv\u001b[0m\n\u001b[0m              ^\u001b[0m\n\u001b[0;31mSyntaxError\u001b[0m\u001b[0;31m:\u001b[0m invalid syntax\n"
          ]
        }
      ]
    },
    {
      "cell_type": "markdown",
      "source": [],
      "metadata": {
        "id": "gGcEErHCUpnd"
      }
    },
    {
      "cell_type": "markdown",
      "source": [],
      "metadata": {
        "id": "rAjjgS3PUplR"
      }
    },
    {
      "cell_type": "markdown",
      "source": [],
      "metadata": {
        "id": "evv4V4UvUpjA"
      }
    },
    {
      "cell_type": "markdown",
      "source": [],
      "metadata": {
        "id": "c7N2s5fJUpg2"
      }
    },
    {
      "cell_type": "markdown",
      "source": [],
      "metadata": {
        "id": "5tgf3bXHUpew"
      }
    },
    {
      "cell_type": "markdown",
      "source": [],
      "metadata": {
        "id": "VrQBJb1YUpci"
      }
    },
    {
      "cell_type": "markdown",
      "source": [],
      "metadata": {
        "id": "eF--5elKUpaN"
      }
    },
    {
      "cell_type": "markdown",
      "source": [],
      "metadata": {
        "id": "60dIx6q1UpYD"
      }
    },
    {
      "cell_type": "markdown",
      "source": [],
      "metadata": {
        "id": "VFVy666fUpWB"
      }
    },
    {
      "cell_type": "markdown",
      "source": [],
      "metadata": {
        "id": "3ULBTH_0UpTq"
      }
    },
    {
      "cell_type": "markdown",
      "source": [],
      "metadata": {
        "id": "lucXhdoOUpRl"
      }
    },
    {
      "cell_type": "markdown",
      "source": [],
      "metadata": {
        "id": "WLCOBQ10UpPV"
      }
    },
    {
      "cell_type": "markdown",
      "source": [],
      "metadata": {
        "id": "f3a8pPXyUpNM"
      }
    },
    {
      "cell_type": "markdown",
      "source": [],
      "metadata": {
        "id": "UWD44vtuUpLJ"
      }
    },
    {
      "cell_type": "markdown",
      "source": [],
      "metadata": {
        "id": "zV66hrUyUpJC"
      }
    },
    {
      "cell_type": "markdown",
      "source": [],
      "metadata": {
        "id": "5xoMmMy0UpG4"
      }
    },
    {
      "cell_type": "markdown",
      "source": [],
      "metadata": {
        "id": "ZVV1HYeSUpEp"
      }
    },
    {
      "cell_type": "markdown",
      "source": [],
      "metadata": {
        "id": "V7iSyGECUpCk"
      }
    },
    {
      "cell_type": "markdown",
      "source": [],
      "metadata": {
        "id": "lPI3srUgUpAU"
      }
    },
    {
      "cell_type": "markdown",
      "source": [],
      "metadata": {
        "id": "7QrAdONoUo9u"
      }
    },
    {
      "cell_type": "markdown",
      "source": [],
      "metadata": {
        "id": "htWX4E9vUo7s"
      }
    },
    {
      "cell_type": "markdown",
      "source": [],
      "metadata": {
        "id": "gku7fMapUo5r"
      }
    },
    {
      "cell_type": "markdown",
      "source": [],
      "metadata": {
        "id": "jmaO_NrPUo3b"
      }
    },
    {
      "cell_type": "markdown",
      "source": [],
      "metadata": {
        "id": "95oDlQa6Uo1Z"
      }
    },
    {
      "cell_type": "markdown",
      "source": [],
      "metadata": {
        "id": "xToIYPXCUozZ"
      }
    },
    {
      "cell_type": "markdown",
      "source": [],
      "metadata": {
        "id": "WJUpQ4fGUoxZ"
      }
    },
    {
      "cell_type": "markdown",
      "source": [],
      "metadata": {
        "id": "mYE2hzk6UovB"
      }
    },
    {
      "cell_type": "markdown",
      "source": [],
      "metadata": {
        "id": "0hJY_Fn9Uor_"
      }
    },
    {
      "cell_type": "markdown",
      "source": [],
      "metadata": {
        "id": "aMDBEtpvUopV"
      }
    },
    {
      "cell_type": "markdown",
      "source": [],
      "metadata": {
        "id": "fMdx6jK4Uomx"
      }
    },
    {
      "cell_type": "markdown",
      "source": [],
      "metadata": {
        "id": "FdzJSWclUokk"
      }
    },
    {
      "cell_type": "markdown",
      "source": [],
      "metadata": {
        "id": "SZLhGPL0Uoib"
      }
    },
    {
      "cell_type": "markdown",
      "source": [],
      "metadata": {
        "id": "k7960K0VUogN"
      }
    },
    {
      "cell_type": "markdown",
      "source": [],
      "metadata": {
        "id": "p0lZOlNpUodg"
      }
    },
    {
      "cell_type": "markdown",
      "source": [],
      "metadata": {
        "id": "j7iRGBmFUobV"
      }
    },
    {
      "cell_type": "markdown",
      "source": [],
      "metadata": {
        "id": "L_3HOdv0UoZP"
      }
    },
    {
      "cell_type": "markdown",
      "source": [],
      "metadata": {
        "id": "AkQOw7V8UoXG"
      }
    },
    {
      "cell_type": "markdown",
      "source": [],
      "metadata": {
        "id": "BouooADRUoU7"
      }
    },
    {
      "cell_type": "markdown",
      "source": [],
      "metadata": {
        "id": "djS5jNmBUoSB"
      }
    },
    {
      "cell_type": "markdown",
      "source": [],
      "metadata": {
        "id": "4t3lcid8UoPB"
      }
    },
    {
      "cell_type": "markdown",
      "source": [],
      "metadata": {
        "id": "oVHMnHQdUoMo"
      }
    },
    {
      "cell_type": "markdown",
      "source": [],
      "metadata": {
        "id": "pQ75DRgmUoKV"
      }
    },
    {
      "cell_type": "markdown",
      "source": [],
      "metadata": {
        "id": "-7piEQ50UoH-"
      }
    },
    {
      "cell_type": "markdown",
      "source": [],
      "metadata": {
        "id": "-81BKWHgUoFV"
      }
    },
    {
      "cell_type": "markdown",
      "source": [],
      "metadata": {
        "id": "98-WQT0tUoCU"
      }
    },
    {
      "cell_type": "markdown",
      "source": [],
      "metadata": {
        "id": "RuPpb2bzUn_m"
      }
    },
    {
      "cell_type": "markdown",
      "source": [],
      "metadata": {
        "id": "ans4Y4AOUn9Y"
      }
    },
    {
      "cell_type": "markdown",
      "source": [],
      "metadata": {
        "id": "W5oETataUnJA"
      }
    },
    {
      "cell_type": "markdown",
      "source": [],
      "metadata": {
        "id": "jEc9MgCCUmZC"
      }
    },
    {
      "cell_type": "markdown",
      "source": [],
      "metadata": {
        "id": "m24fq_d-UmWV"
      }
    },
    {
      "cell_type": "markdown",
      "source": [],
      "metadata": {
        "id": "WCQ5AlopUY1I"
      }
    },
    {
      "cell_type": "markdown",
      "source": [],
      "metadata": {
        "id": "UwcK6nRGT6BE"
      }
    },
    {
      "cell_type": "code",
      "source": [
        "print(type(number))"
      ],
      "metadata": {
        "colab": {
          "base_uri": "https://localhost:8080/"
        },
        "id": "kMozverB4SZx",
        "outputId": "7fc1b02b-e994-4265-de32-94a78dfd2503"
      },
      "execution_count": null,
      "outputs": [
        {
          "output_type": "stream",
          "name": "stdout",
          "text": [
            "<class 'int'>\n"
          ]
        }
      ]
    },
    {
      "cell_type": "code",
      "source": [
        "number2 = None"
      ],
      "metadata": {
        "id": "YADT_YtX4YkI"
      },
      "execution_count": null,
      "outputs": []
    },
    {
      "cell_type": "code",
      "source": [
        "print(type(number2))"
      ],
      "metadata": {
        "colab": {
          "base_uri": "https://localhost:8080/"
        },
        "id": "ZxbnF50x4ezA",
        "outputId": "425c60e4-d9a3-4221-f66c-9865b1be613d"
      },
      "execution_count": null,
      "outputs": [
        {
          "output_type": "stream",
          "name": "stdout",
          "text": [
            "<class 'NoneType'>\n"
          ]
        }
      ]
    },
    {
      "cell_type": "code",
      "source": [
        "number3 = 10.0"
      ],
      "metadata": {
        "id": "YIxnapk34rBp"
      },
      "execution_count": null,
      "outputs": []
    },
    {
      "cell_type": "code",
      "source": [
        "print(type(number3))"
      ],
      "metadata": {
        "colab": {
          "base_uri": "https://localhost:8080/"
        },
        "id": "Disxhhgs4uZB",
        "outputId": "9fa7892a-73c2-4011-9ad3-a3c463ac6ca4"
      },
      "execution_count": null,
      "outputs": [
        {
          "output_type": "stream",
          "name": "stdout",
          "text": [
            "<class 'float'>\n"
          ]
        }
      ]
    },
    {
      "cell_type": "code",
      "source": [
        "number4 = 'c'\n",
        "number5 = \"biswa\""
      ],
      "metadata": {
        "id": "Mh1dhh2i4xYq"
      },
      "execution_count": null,
      "outputs": []
    },
    {
      "cell_type": "code",
      "source": [
        "print(type(number4))"
      ],
      "metadata": {
        "colab": {
          "base_uri": "https://localhost:8080/"
        },
        "id": "h8ss272z43aB",
        "outputId": "1ac0e2f4-a4cf-4504-d65a-0c3811fe83f1"
      },
      "execution_count": null,
      "outputs": [
        {
          "output_type": "stream",
          "name": "stdout",
          "text": [
            "<class 'str'>\n"
          ]
        }
      ]
    },
    {
      "cell_type": "code",
      "source": [
        "print(type(number5))"
      ],
      "metadata": {
        "colab": {
          "base_uri": "https://localhost:8080/"
        },
        "id": "2wcxqb66470C",
        "outputId": "51a1c164-0709-4b1f-fc61-ebbb4c425afb"
      },
      "execution_count": null,
      "outputs": [
        {
          "output_type": "stream",
          "name": "stdout",
          "text": [
            "<class 'str'>\n"
          ]
        }
      ]
    },
    {
      "cell_type": "code",
      "source": [
        "number6 = 0.000000005"
      ],
      "metadata": {
        "id": "vvQ6SVQo5I8r"
      },
      "execution_count": null,
      "outputs": []
    },
    {
      "cell_type": "code",
      "source": [
        "print(type(number6))"
      ],
      "metadata": {
        "colab": {
          "base_uri": "https://localhost:8080/"
        },
        "id": "8infUh_b5R1I",
        "outputId": "1afa1c58-0c41-45a9-c953-a99836c13146"
      },
      "execution_count": null,
      "outputs": [
        {
          "output_type": "stream",
          "name": "stdout",
          "text": [
            "<class 'float'>\n"
          ]
        }
      ]
    },
    {
      "cell_type": "code",
      "source": [
        "list1 = [1, 4, 7, 2, 3]"
      ],
      "metadata": {
        "id": "jEnEX3GX7DHA"
      },
      "execution_count": null,
      "outputs": []
    },
    {
      "cell_type": "code",
      "source": [
        "list1"
      ],
      "metadata": {
        "colab": {
          "base_uri": "https://localhost:8080/"
        },
        "id": "_x4HaBXA78Ja",
        "outputId": "6138a0b6-af18-4f86-c745-31d5cb46f4f1"
      },
      "execution_count": null,
      "outputs": [
        {
          "output_type": "execute_result",
          "data": {
            "text/plain": [
              "[1, 4, 7, 2, 3]"
            ]
          },
          "metadata": {},
          "execution_count": 13
        }
      ]
    },
    {
      "cell_type": "code",
      "source": [
        "print(type(list1))"
      ],
      "metadata": {
        "colab": {
          "base_uri": "https://localhost:8080/"
        },
        "id": "dqUKedt_7V4Z",
        "outputId": "2d282749-766f-448b-c64e-dc79c6734f6c"
      },
      "execution_count": null,
      "outputs": [
        {
          "output_type": "stream",
          "name": "stdout",
          "text": [
            "<class 'list'>\n"
          ]
        }
      ]
    },
    {
      "cell_type": "code",
      "source": [
        "list_foods = [\"eggs\", \"milk\", \"carrot\", \"rice1\", \"rice2\", \"rice3\", \"potato\"]"
      ],
      "metadata": {
        "id": "wDm083yiFVPO"
      },
      "execution_count": null,
      "outputs": []
    },
    {
      "cell_type": "code",
      "source": [
        "list_foods[2]"
      ],
      "metadata": {
        "colab": {
          "base_uri": "https://localhost:8080/",
          "height": 35
        },
        "id": "Z4YCS2RZGwsl",
        "outputId": "8999f6e0-5873-40db-af22-2eba5306b078"
      },
      "execution_count": null,
      "outputs": [
        {
          "output_type": "execute_result",
          "data": {
            "text/plain": [
              "'carrot'"
            ],
            "application/vnd.google.colaboratory.intrinsic+json": {
              "type": "string"
            }
          },
          "metadata": {},
          "execution_count": 16
        }
      ]
    },
    {
      "cell_type": "code",
      "source": [
        "list_foods[-1]"
      ],
      "metadata": {
        "colab": {
          "base_uri": "https://localhost:8080/",
          "height": 35
        },
        "id": "7D8Fd2xYHPYt",
        "outputId": "cf07de24-89a5-4044-b427-dc3627be7b1f"
      },
      "execution_count": null,
      "outputs": [
        {
          "output_type": "execute_result",
          "data": {
            "text/plain": [
              "'potato'"
            ],
            "application/vnd.google.colaboratory.intrinsic+json": {
              "type": "string"
            }
          },
          "metadata": {},
          "execution_count": 17
        }
      ]
    },
    {
      "cell_type": "code",
      "source": [
        "list_foods[-4:-1] # -4, -3 and -2"
      ],
      "metadata": {
        "colab": {
          "base_uri": "https://localhost:8080/"
        },
        "id": "MOpoPzumHjo-",
        "outputId": "afaff9db-40ed-4aa5-b3c6-bede47d2cf13"
      },
      "execution_count": null,
      "outputs": [
        {
          "output_type": "execute_result",
          "data": {
            "text/plain": [
              "['rice1', 'rice2', 'rice3']"
            ]
          },
          "metadata": {},
          "execution_count": 18
        }
      ]
    },
    {
      "cell_type": "code",
      "source": [
        "list_foods[3:6] # 3, 4 and 5"
      ],
      "metadata": {
        "colab": {
          "base_uri": "https://localhost:8080/"
        },
        "id": "pDYfxzHDIdS1",
        "outputId": "bc39a8c1-d0cd-4ca1-de0b-04b915246655"
      },
      "execution_count": null,
      "outputs": [
        {
          "output_type": "execute_result",
          "data": {
            "text/plain": [
              "['rice1', 'rice2', 'rice3']"
            ]
          },
          "metadata": {},
          "execution_count": 19
        }
      ]
    },
    {
      "cell_type": "code",
      "source": [
        "list_foods[3:]"
      ],
      "metadata": {
        "colab": {
          "base_uri": "https://localhost:8080/"
        },
        "id": "MjkXuYpJJHuV",
        "outputId": "2dab737b-01e5-4f3a-a5bb-e175c11ad46e"
      },
      "execution_count": null,
      "outputs": [
        {
          "output_type": "execute_result",
          "data": {
            "text/plain": [
              "['rice1', 'rice2', 'rice3', 'potato']"
            ]
          },
          "metadata": {},
          "execution_count": 20
        }
      ]
    },
    {
      "cell_type": "code",
      "source": [
        "list_foods[-4:]"
      ],
      "metadata": {
        "colab": {
          "base_uri": "https://localhost:8080/"
        },
        "id": "GFyqnzATJRl9",
        "outputId": "ccd0bb2e-85a9-4f24-b074-c63358ecad71"
      },
      "execution_count": null,
      "outputs": [
        {
          "output_type": "execute_result",
          "data": {
            "text/plain": [
              "['rice1', 'rice2', 'rice3', 'potato']"
            ]
          },
          "metadata": {},
          "execution_count": 21
        }
      ]
    },
    {
      "cell_type": "code",
      "source": [
        "list_foods[:5]"
      ],
      "metadata": {
        "colab": {
          "base_uri": "https://localhost:8080/"
        },
        "id": "w5TpeNYzJWQU",
        "outputId": "c02acc5a-fc85-4e56-b194-5ccb47385544"
      },
      "execution_count": null,
      "outputs": [
        {
          "output_type": "execute_result",
          "data": {
            "text/plain": [
              "['eggs', 'milk', 'carrot', 'rice1', 'rice2']"
            ]
          },
          "metadata": {},
          "execution_count": 22
        }
      ]
    },
    {
      "cell_type": "code",
      "source": [
        "list_foods[2] = \"onion\""
      ],
      "metadata": {
        "id": "XZKmjzkgJkS7"
      },
      "execution_count": null,
      "outputs": []
    },
    {
      "cell_type": "code",
      "source": [
        "list_foods[:5]"
      ],
      "metadata": {
        "colab": {
          "base_uri": "https://localhost:8080/"
        },
        "id": "ky6Qai82J9zF",
        "outputId": "1eef0636-1b22-4ae4-cab7-f65b118c0c1b"
      },
      "execution_count": null,
      "outputs": [
        {
          "output_type": "execute_result",
          "data": {
            "text/plain": [
              "['eggs', 'milk', 'onion', 'rice1', 'rice2']"
            ]
          },
          "metadata": {},
          "execution_count": 24
        }
      ]
    },
    {
      "cell_type": "code",
      "source": [
        "list_foods[2:4] = [\"abc\", \"xyz\"]"
      ],
      "metadata": {
        "id": "EkCBPLGmKMhE"
      },
      "execution_count": null,
      "outputs": []
    },
    {
      "cell_type": "code",
      "source": [
        "list_foods[:5]"
      ],
      "metadata": {
        "colab": {
          "base_uri": "https://localhost:8080/"
        },
        "id": "0O5pzrggKVjG",
        "outputId": "0d6cdc86-ab8d-4ac2-83df-4c965e086a45"
      },
      "execution_count": null,
      "outputs": [
        {
          "output_type": "execute_result",
          "data": {
            "text/plain": [
              "['eggs', 'milk', 'abc', 'xyz', 'rice2']"
            ]
          },
          "metadata": {},
          "execution_count": 26
        }
      ]
    },
    {
      "cell_type": "code",
      "source": [
        "list2 = [1, 4, 7.0, 2, 3, \"biswa\"]"
      ],
      "metadata": {
        "id": "9hQv6nhF7eI1"
      },
      "execution_count": null,
      "outputs": []
    },
    {
      "cell_type": "code",
      "source": [
        "print(type(list2))"
      ],
      "metadata": {
        "colab": {
          "base_uri": "https://localhost:8080/"
        },
        "id": "yVw7Gycn7jPx",
        "outputId": "1185677b-41f2-48ae-ae82-ca69c8883eec"
      },
      "execution_count": null,
      "outputs": [
        {
          "output_type": "stream",
          "name": "stdout",
          "text": [
            "<class 'list'>\n"
          ]
        }
      ]
    },
    {
      "cell_type": "code",
      "source": [
        "list2"
      ],
      "metadata": {
        "colab": {
          "base_uri": "https://localhost:8080/"
        },
        "id": "DbCBVUvx730I",
        "outputId": "cb5067a7-c97c-4780-a2b5-fba52393807c"
      },
      "execution_count": null,
      "outputs": [
        {
          "output_type": "execute_result",
          "data": {
            "text/plain": [
              "[1, 4, 7.0, 2, 3, 'biswa']"
            ]
          },
          "metadata": {},
          "execution_count": 29
        }
      ]
    },
    {
      "cell_type": "code",
      "source": [
        "tuple1 = (1, 4, 7, 2, 3)"
      ],
      "metadata": {
        "id": "svZvaz2a7vT4"
      },
      "execution_count": null,
      "outputs": []
    },
    {
      "cell_type": "code",
      "source": [
        "tuple1"
      ],
      "metadata": {
        "colab": {
          "base_uri": "https://localhost:8080/"
        },
        "id": "fntnM4s_8G2Q",
        "outputId": "95c3adc9-0d8c-4e27-d9c5-ae6694642a71"
      },
      "execution_count": null,
      "outputs": [
        {
          "output_type": "execute_result",
          "data": {
            "text/plain": [
              "(1, 4, 7, 2, 3)"
            ]
          },
          "metadata": {},
          "execution_count": 31
        }
      ]
    },
    {
      "cell_type": "code",
      "source": [
        "id(tuple1)"
      ],
      "metadata": {
        "colab": {
          "base_uri": "https://localhost:8080/"
        },
        "id": "lJ7-RK5uME8M",
        "outputId": "95854c72-f6d5-4002-c65b-fbdec0e5eecb"
      },
      "execution_count": null,
      "outputs": [
        {
          "output_type": "execute_result",
          "data": {
            "text/plain": [
              "140334568166480"
            ]
          },
          "metadata": {},
          "execution_count": 32
        }
      ]
    },
    {
      "cell_type": "code",
      "source": [
        "tuple1[2] = 100"
      ],
      "metadata": {
        "colab": {
          "base_uri": "https://localhost:8080/",
          "height": 165
        },
        "id": "BP0nnKGFK88c",
        "outputId": "f86f2929-faad-4aa7-eb47-d1b1feeee680"
      },
      "execution_count": null,
      "outputs": [
        {
          "output_type": "error",
          "ename": "TypeError",
          "evalue": "ignored",
          "traceback": [
            "\u001b[0;31m---------------------------------------------------------------------------\u001b[0m",
            "\u001b[0;31mTypeError\u001b[0m                                 Traceback (most recent call last)",
            "\u001b[0;32m<ipython-input-35-d4d175a0a8bf>\u001b[0m in \u001b[0;36m<module>\u001b[0;34m\u001b[0m\n\u001b[0;32m----> 1\u001b[0;31m \u001b[0mtuple1\u001b[0m\u001b[0;34m[\u001b[0m\u001b[0;36m2\u001b[0m\u001b[0;34m]\u001b[0m \u001b[0;34m=\u001b[0m \u001b[0;36m100\u001b[0m\u001b[0;34m\u001b[0m\u001b[0;34m\u001b[0m\u001b[0m\n\u001b[0m",
            "\u001b[0;31mTypeError\u001b[0m: 'tuple' object does not support item assignment"
          ]
        }
      ]
    },
    {
      "cell_type": "code",
      "source": [
        "temp_list1 = list(tuple1)"
      ],
      "metadata": {
        "id": "Fa3B7LDPLTKT"
      },
      "execution_count": null,
      "outputs": []
    },
    {
      "cell_type": "code",
      "source": [
        "temp_list1[2] = 100"
      ],
      "metadata": {
        "id": "cgAt1OhPLYx-"
      },
      "execution_count": null,
      "outputs": []
    },
    {
      "cell_type": "code",
      "source": [
        "tuple1 = tuple(temp_list1)"
      ],
      "metadata": {
        "id": "398SzSdKLcEE"
      },
      "execution_count": null,
      "outputs": []
    },
    {
      "cell_type": "code",
      "source": [
        "tuple1"
      ],
      "metadata": {
        "colab": {
          "base_uri": "https://localhost:8080/"
        },
        "id": "MKdQWDuELfVE",
        "outputId": "8b9f0b4d-a055-4803-f31d-278dd5b0d1d0"
      },
      "execution_count": null,
      "outputs": [
        {
          "output_type": "execute_result",
          "data": {
            "text/plain": [
              "(1, 4, 100, 2, 3)"
            ]
          },
          "metadata": {},
          "execution_count": 39
        }
      ]
    },
    {
      "cell_type": "code",
      "source": [
        "id(tuple1)"
      ],
      "metadata": {
        "colab": {
          "base_uri": "https://localhost:8080/"
        },
        "id": "98Pg6MPTMOI-",
        "outputId": "9dfe1b8c-c724-4cd3-fbaf-67cf6bf8788e"
      },
      "execution_count": null,
      "outputs": [
        {
          "output_type": "execute_result",
          "data": {
            "text/plain": [
              "140333847812832"
            ]
          },
          "metadata": {},
          "execution_count": 40
        }
      ]
    },
    {
      "cell_type": "code",
      "source": [
        "print(type(tuple1))"
      ],
      "metadata": {
        "colab": {
          "base_uri": "https://localhost:8080/"
        },
        "id": "MKHhFrko70Tp",
        "outputId": "65af64aa-431e-4b12-9522-ce0ac9dc2d1b"
      },
      "execution_count": null,
      "outputs": [
        {
          "output_type": "stream",
          "name": "stdout",
          "text": [
            "<class 'tuple'>\n"
          ]
        }
      ]
    },
    {
      "cell_type": "code",
      "source": [
        "tuple2 = 1, 4, 7.0, 2, 3, \"biswa\""
      ],
      "metadata": {
        "id": "pCw-EIx28cFB"
      },
      "execution_count": null,
      "outputs": []
    },
    {
      "cell_type": "code",
      "source": [
        "tuple2"
      ],
      "metadata": {
        "colab": {
          "base_uri": "https://localhost:8080/"
        },
        "id": "Pe3bWhfp8iVZ",
        "outputId": "9f9a7038-a2e4-41f8-cf1c-a943f669d8ca"
      },
      "execution_count": null,
      "outputs": [
        {
          "output_type": "execute_result",
          "data": {
            "text/plain": [
              "(1, 4, 7.0, 2, 3, 'biswa')"
            ]
          },
          "metadata": {},
          "execution_count": 43
        }
      ]
    },
    {
      "cell_type": "code",
      "source": [
        "print(type(tuple2))"
      ],
      "metadata": {
        "colab": {
          "base_uri": "https://localhost:8080/"
        },
        "id": "8h_TebBA8k84",
        "outputId": "7729c787-748a-489c-b28e-e3b9c8edac7d"
      },
      "execution_count": null,
      "outputs": [
        {
          "output_type": "stream",
          "name": "stdout",
          "text": [
            "<class 'tuple'>\n"
          ]
        }
      ]
    },
    {
      "cell_type": "code",
      "source": [
        "dict1 = {\"key1\": 200, \"key2\": 300.0, \"key3\": \"mars\"}"
      ],
      "metadata": {
        "id": "_ydAXhX88tby"
      },
      "execution_count": null,
      "outputs": []
    },
    {
      "cell_type": "code",
      "source": [
        "dict1"
      ],
      "metadata": {
        "colab": {
          "base_uri": "https://localhost:8080/"
        },
        "id": "ORnAouvU9IKp",
        "outputId": "d3a79d35-cc22-4231-a414-e5dcd12741d5"
      },
      "execution_count": null,
      "outputs": [
        {
          "output_type": "execute_result",
          "data": {
            "text/plain": [
              "{'key1': 200, 'key2': 300.0, 'key3': 'mars'}"
            ]
          },
          "metadata": {},
          "execution_count": 46
        }
      ]
    },
    {
      "cell_type": "code",
      "source": [
        "print(type(dict1))"
      ],
      "metadata": {
        "colab": {
          "base_uri": "https://localhost:8080/"
        },
        "id": "nxqMA6Dv9M7B",
        "outputId": "43537a4b-d3fd-47d0-f773-ae1056abd25a"
      },
      "execution_count": null,
      "outputs": [
        {
          "output_type": "stream",
          "name": "stdout",
          "text": [
            "<class 'dict'>\n"
          ]
        }
      ]
    },
    {
      "cell_type": "code",
      "source": [
        "d2 = {tuple1: 200, 400: 700}"
      ],
      "metadata": {
        "id": "mL_jooL9O-AS"
      },
      "execution_count": null,
      "outputs": []
    },
    {
      "cell_type": "code",
      "source": [
        "d2"
      ],
      "metadata": {
        "colab": {
          "base_uri": "https://localhost:8080/"
        },
        "id": "6fNFGACFPGar",
        "outputId": "01df646f-f041-487a-c07a-4b360ef2915d"
      },
      "execution_count": null,
      "outputs": [
        {
          "output_type": "execute_result",
          "data": {
            "text/plain": [
              "{(1, 4, 100, 2, 3): 200, 400: 700}"
            ]
          },
          "metadata": {},
          "execution_count": 49
        }
      ]
    },
    {
      "cell_type": "code",
      "source": [
        "key = \"key\""
      ],
      "metadata": {
        "id": "6JqfC4KXP9Vb"
      },
      "execution_count": null,
      "outputs": []
    },
    {
      "cell_type": "code",
      "source": [
        "id(key)"
      ],
      "metadata": {
        "colab": {
          "base_uri": "https://localhost:8080/"
        },
        "id": "ULRqIvdVQoFJ",
        "outputId": "d91c05ed-2ffb-4aeb-d232-b6d6e72a3baa"
      },
      "execution_count": null,
      "outputs": [
        {
          "output_type": "execute_result",
          "data": {
            "text/plain": [
              "140334677234416"
            ]
          },
          "metadata": {},
          "execution_count": 51
        }
      ]
    },
    {
      "cell_type": "code",
      "source": [
        "key"
      ],
      "metadata": {
        "colab": {
          "base_uri": "https://localhost:8080/",
          "height": 35
        },
        "id": "jlIwySCxQBAL",
        "outputId": "27abfc6d-aa7b-4818-d52d-be008dd26351"
      },
      "execution_count": null,
      "outputs": [
        {
          "output_type": "execute_result",
          "data": {
            "text/plain": [
              "'key'"
            ],
            "application/vnd.google.colaboratory.intrinsic+json": {
              "type": "string"
            }
          },
          "metadata": {},
          "execution_count": 52
        }
      ]
    },
    {
      "cell_type": "code",
      "source": [
        "key[1]"
      ],
      "metadata": {
        "colab": {
          "base_uri": "https://localhost:8080/",
          "height": 35
        },
        "id": "_ov_kY7mQOmx",
        "outputId": "dee04f0d-a0f0-422d-b1e9-bedf457645e1"
      },
      "execution_count": null,
      "outputs": [
        {
          "output_type": "execute_result",
          "data": {
            "text/plain": [
              "'e'"
            ],
            "application/vnd.google.colaboratory.intrinsic+json": {
              "type": "string"
            }
          },
          "metadata": {},
          "execution_count": 53
        }
      ]
    },
    {
      "cell_type": "code",
      "source": [
        "key[1] = \"z\""
      ],
      "metadata": {
        "colab": {
          "base_uri": "https://localhost:8080/",
          "height": 165
        },
        "id": "RgudkawtQCjk",
        "outputId": "24628699-5dcb-4344-878d-a31d387959f5"
      },
      "execution_count": null,
      "outputs": [
        {
          "output_type": "error",
          "ename": "TypeError",
          "evalue": "ignored",
          "traceback": [
            "\u001b[0;31m---------------------------------------------------------------------------\u001b[0m",
            "\u001b[0;31mTypeError\u001b[0m                                 Traceback (most recent call last)",
            "\u001b[0;32m<ipython-input-54-1d7765147f66>\u001b[0m in \u001b[0;36m<module>\u001b[0;34m\u001b[0m\n\u001b[0;32m----> 1\u001b[0;31m \u001b[0mkey\u001b[0m\u001b[0;34m[\u001b[0m\u001b[0;36m1\u001b[0m\u001b[0;34m]\u001b[0m \u001b[0;34m=\u001b[0m \u001b[0;34m\"z\"\u001b[0m\u001b[0;34m\u001b[0m\u001b[0;34m\u001b[0m\u001b[0m\n\u001b[0m",
            "\u001b[0;31mTypeError\u001b[0m: 'str' object does not support item assignment"
          ]
        }
      ]
    },
    {
      "cell_type": "code",
      "source": [
        "key = \"key2\""
      ],
      "metadata": {
        "id": "wNs3V5yPQXT7"
      },
      "execution_count": null,
      "outputs": []
    },
    {
      "cell_type": "code",
      "source": [
        "key"
      ],
      "metadata": {
        "colab": {
          "base_uri": "https://localhost:8080/",
          "height": 35
        },
        "id": "D-1zdZRyQbeC",
        "outputId": "542ac810-4be2-4fbc-8fb1-6abd297a2265"
      },
      "execution_count": null,
      "outputs": [
        {
          "output_type": "execute_result",
          "data": {
            "text/plain": [
              "'key2'"
            ],
            "application/vnd.google.colaboratory.intrinsic+json": {
              "type": "string"
            }
          },
          "metadata": {},
          "execution_count": 56
        }
      ]
    },
    {
      "cell_type": "code",
      "source": [
        "id(key)"
      ],
      "metadata": {
        "colab": {
          "base_uri": "https://localhost:8080/"
        },
        "id": "bQL7lWp6Qtt5",
        "outputId": "61d06b68-7265-488e-b7b5-a080d5eee564"
      },
      "execution_count": null,
      "outputs": [
        {
          "output_type": "execute_result",
          "data": {
            "text/plain": [
              "140334129474416"
            ]
          },
          "metadata": {},
          "execution_count": 57
        }
      ]
    },
    {
      "cell_type": "code",
      "source": [
        "list3 = [4, 7, 4, 8, 7, 2, 2]"
      ],
      "metadata": {
        "id": "GWxN6L8h9XwB"
      },
      "execution_count": null,
      "outputs": []
    },
    {
      "cell_type": "code",
      "source": [
        "list3"
      ],
      "metadata": {
        "colab": {
          "base_uri": "https://localhost:8080/"
        },
        "id": "RX9hFY7l9guZ",
        "outputId": "118d69f0-922b-4758-b8b7-74e2c0c37d24"
      },
      "execution_count": null,
      "outputs": [
        {
          "output_type": "execute_result",
          "data": {
            "text/plain": [
              "[4, 7, 4, 8, 7, 2, 2]"
            ]
          },
          "metadata": {},
          "execution_count": 59
        }
      ]
    },
    {
      "cell_type": "code",
      "source": [
        "set1 = set(list3)"
      ],
      "metadata": {
        "id": "8J_RTVe09i1p"
      },
      "execution_count": null,
      "outputs": []
    },
    {
      "cell_type": "code",
      "source": [
        "set1"
      ],
      "metadata": {
        "colab": {
          "base_uri": "https://localhost:8080/"
        },
        "id": "ZSJvgbpx9n3g",
        "outputId": "9541253f-e0b6-4ee7-8f3f-43d526610c91"
      },
      "execution_count": null,
      "outputs": [
        {
          "output_type": "execute_result",
          "data": {
            "text/plain": [
              "{2, 4, 7, 8}"
            ]
          },
          "metadata": {},
          "execution_count": 61
        }
      ]
    },
    {
      "cell_type": "code",
      "source": [
        "tuple3 = 4, 7, 4, 8, 7, 2, 2, \"bombay\", \"goa\", \"bombay\""
      ],
      "metadata": {
        "id": "jWUprDDk91jR"
      },
      "execution_count": null,
      "outputs": []
    },
    {
      "cell_type": "code",
      "source": [
        "tuple3"
      ],
      "metadata": {
        "colab": {
          "base_uri": "https://localhost:8080/"
        },
        "id": "7fBd84eo94X3",
        "outputId": "2ba89e13-4317-4038-cc8e-6da0bf0451d0"
      },
      "execution_count": null,
      "outputs": [
        {
          "output_type": "execute_result",
          "data": {
            "text/plain": [
              "(4, 7, 4, 8, 7, 2, 2, 'bombay', 'goa', 'bombay')"
            ]
          },
          "metadata": {},
          "execution_count": 63
        }
      ]
    },
    {
      "cell_type": "code",
      "source": [
        "set2 = set(tuple3)"
      ],
      "metadata": {
        "id": "uRUgfXLr98z5"
      },
      "execution_count": null,
      "outputs": []
    },
    {
      "cell_type": "code",
      "source": [
        "set2"
      ],
      "metadata": {
        "colab": {
          "base_uri": "https://localhost:8080/"
        },
        "id": "JnEVMVUH-Aaj",
        "outputId": "5a804f1a-ef89-4a5f-b894-c8b575ddcac0"
      },
      "execution_count": null,
      "outputs": [
        {
          "output_type": "execute_result",
          "data": {
            "text/plain": [
              "{2, 4, 7, 8, 'bombay', 'goa'}"
            ]
          },
          "metadata": {},
          "execution_count": 65
        }
      ]
    },
    {
      "cell_type": "code",
      "source": [
        "print(type(set2))"
      ],
      "metadata": {
        "colab": {
          "base_uri": "https://localhost:8080/"
        },
        "id": "ImqXuUgA-EBR",
        "outputId": "79ffdf3c-14f6-4ffe-b757-2c76e50c63ff"
      },
      "execution_count": null,
      "outputs": [
        {
          "output_type": "stream",
          "name": "stdout",
          "text": [
            "<class 'set'>\n"
          ]
        }
      ]
    },
    {
      "cell_type": "code",
      "source": [
        "if c6 and ((c1 and c2) or (c3 and (c4 or c5))):\n",
        "  launch ship\n",
        "elif temperature > 30 and humidity == high:\n",
        "  fire the ship engine\n",
        "elif temperature > 20  and windspeed == low:\n",
        "  launch ship\n",
        "else:\n",
        "  don't launch ship"
      ],
      "metadata": {
        "id": "wqfyVqe08dnT"
      },
      "execution_count": null,
      "outputs": []
    },
    {
      "cell_type": "code",
      "source": [
        "if c1 or c2 or .......................................... c1000:"
      ],
      "metadata": {
        "id": "5R7XBtyfCvp7"
      },
      "execution_count": null,
      "outputs": []
    },
    {
      "cell_type": "code",
      "source": [
        "c1,c2,c3,c4,c5,c6\n",
        "01,00,01,01,01,00 = F"
      ],
      "metadata": {
        "id": "KTtY6YThDUpT"
      },
      "execution_count": null,
      "outputs": []
    },
    {
      "cell_type": "code",
      "source": [
        "kick_the_ball_function():\n",
        "  kick Football\n",
        "  if distance > 80:\n",
        "    return T\n",
        "  else:\n",
        "    return F"
      ],
      "metadata": {
        "id": "0bhH179gFcVh"
      },
      "execution_count": null,
      "outputs": []
    },
    {
      "cell_type": "code",
      "source": [
        "if c1 and c2 and kick_the_ball_function():\n",
        "  do something"
      ],
      "metadata": {
        "id": "TRXwGrpoFw_a"
      },
      "execution_count": null,
      "outputs": []
    },
    {
      "cell_type": "code",
      "source": [
        "if x == 100 --> small function (check_100_function())"
      ],
      "metadata": {
        "id": "wVrvcHQwGKAu"
      },
      "execution_count": null,
      "outputs": []
    },
    {
      "cell_type": "code",
      "source": [
        "l = list()"
      ],
      "metadata": {
        "id": "IaFUZc4HmqQk"
      },
      "execution_count": null,
      "outputs": []
    },
    {
      "cell_type": "code",
      "source": [
        "l.append(100)"
      ],
      "metadata": {
        "id": "qmfNLCd5nEbC"
      },
      "execution_count": null,
      "outputs": []
    },
    {
      "cell_type": "code",
      "source": [
        "l"
      ],
      "metadata": {
        "colab": {
          "base_uri": "https://localhost:8080/"
        },
        "id": "3BoUN5yuorcI",
        "outputId": "7679ba5f-37a1-4b0e-8afa-4247a92d5f1a"
      },
      "execution_count": null,
      "outputs": [
        {
          "output_type": "execute_result",
          "data": {
            "text/plain": [
              "[100]"
            ]
          },
          "metadata": {},
          "execution_count": 3
        }
      ]
    },
    {
      "cell_type": "code",
      "source": [
        "l.append(200)\n",
        "l.append(\"Ram\")"
      ],
      "metadata": {
        "id": "xJpx1vw2otIJ"
      },
      "execution_count": null,
      "outputs": []
    },
    {
      "cell_type": "code",
      "source": [
        "l"
      ],
      "metadata": {
        "colab": {
          "base_uri": "https://localhost:8080/"
        },
        "id": "IH94zby3o0hK",
        "outputId": "e0253426-a4aa-4267-91a5-dff41f1d9033"
      },
      "execution_count": null,
      "outputs": [
        {
          "output_type": "execute_result",
          "data": {
            "text/plain": [
              "[100, 200, 'Ram']"
            ]
          },
          "metadata": {},
          "execution_count": 6
        }
      ]
    },
    {
      "cell_type": "code",
      "source": [
        "v = l.pop()"
      ],
      "metadata": {
        "id": "cTEI90uvo6sZ"
      },
      "execution_count": null,
      "outputs": []
    },
    {
      "cell_type": "code",
      "source": [
        "v"
      ],
      "metadata": {
        "colab": {
          "base_uri": "https://localhost:8080/"
        },
        "id": "c96dHHkhp-2x",
        "outputId": "a1f99238-3101-4ee5-e9be-916f1d24414e"
      },
      "execution_count": null,
      "outputs": [
        {
          "output_type": "execute_result",
          "data": {
            "text/plain": [
              "1000"
            ]
          },
          "metadata": {},
          "execution_count": 17
        }
      ]
    },
    {
      "cell_type": "code",
      "source": [
        "l"
      ],
      "metadata": {
        "colab": {
          "base_uri": "https://localhost:8080/"
        },
        "id": "CudsXNW4p504",
        "outputId": "397a4442-e98c-4e52-8b15-b285551559d9"
      },
      "execution_count": null,
      "outputs": [
        {
          "output_type": "execute_result",
          "data": {
            "text/plain": [
              "[100]"
            ]
          },
          "metadata": {},
          "execution_count": 18
        }
      ]
    },
    {
      "cell_type": "code",
      "source": [
        "l2 = [4, 6, 7, 9, 10, 11]"
      ],
      "metadata": {
        "id": "gl74YPN7qYVL"
      },
      "execution_count": null,
      "outputs": []
    },
    {
      "cell_type": "code",
      "source": [
        "l"
      ],
      "metadata": {
        "colab": {
          "base_uri": "https://localhost:8080/"
        },
        "id": "rNyvoO5Jqgf5",
        "outputId": "3c4459a1-8814-4b43-dfe8-f7417cc92647"
      },
      "execution_count": null,
      "outputs": [
        {
          "output_type": "execute_result",
          "data": {
            "text/plain": [
              "[100]"
            ]
          },
          "metadata": {},
          "execution_count": 19
        }
      ]
    },
    {
      "cell_type": "code",
      "source": [
        "l2"
      ],
      "metadata": {
        "colab": {
          "base_uri": "https://localhost:8080/"
        },
        "id": "RA5psvKYqhRz",
        "outputId": "9bceb3c3-4161-4c0b-c7e1-69562fa028a2"
      },
      "execution_count": null,
      "outputs": [
        {
          "output_type": "execute_result",
          "data": {
            "text/plain": [
              "[4, 6, 7, 9, 10, 11]"
            ]
          },
          "metadata": {},
          "execution_count": 21
        }
      ]
    },
    {
      "cell_type": "code",
      "source": [
        "l.extend(l2)"
      ],
      "metadata": {
        "id": "4jd-kPKHqqs6"
      },
      "execution_count": null,
      "outputs": []
    },
    {
      "cell_type": "code",
      "source": [
        "l"
      ],
      "metadata": {
        "colab": {
          "base_uri": "https://localhost:8080/"
        },
        "id": "IVpuM_2eqwqw",
        "outputId": "6d123e76-a604-474c-ff07-badadac42d3c"
      },
      "execution_count": null,
      "outputs": [
        {
          "output_type": "execute_result",
          "data": {
            "text/plain": [
              "[100, 4, 6, 7, 9, 10, 11]"
            ]
          },
          "metadata": {},
          "execution_count": 23
        }
      ]
    },
    {
      "cell_type": "code",
      "source": [
        "l.insert(5, 1000)"
      ],
      "metadata": {
        "id": "NOr-2e1jp57b"
      },
      "execution_count": null,
      "outputs": []
    },
    {
      "cell_type": "code",
      "source": [
        "l"
      ],
      "metadata": {
        "colab": {
          "base_uri": "https://localhost:8080/"
        },
        "id": "w2TfXvHKqKK9",
        "outputId": "2da3a42b-6b35-4869-b212-37f67f5b7fd1"
      },
      "execution_count": null,
      "outputs": [
        {
          "output_type": "execute_result",
          "data": {
            "text/plain": [
              "[100, 4, 6, 7, 9, 1000, 10, 11]"
            ]
          },
          "metadata": {},
          "execution_count": 25
        }
      ]
    },
    {
      "cell_type": "code",
      "source": [
        "l.append(1000)\n",
        "l.append(200)"
      ],
      "metadata": {
        "id": "IqqfzlAzrG7S"
      },
      "execution_count": null,
      "outputs": []
    },
    {
      "cell_type": "code",
      "source": [
        "l"
      ],
      "metadata": {
        "colab": {
          "base_uri": "https://localhost:8080/"
        },
        "id": "fAdBx7igrRug",
        "outputId": "94625a41-57ca-40c1-e18d-7387afac1ae2"
      },
      "execution_count": null,
      "outputs": [
        {
          "output_type": "execute_result",
          "data": {
            "text/plain": [
              "[100, 4, 6, 7, 9, 1000, 10, 11, 1000, 200]"
            ]
          },
          "metadata": {},
          "execution_count": 27
        }
      ]
    },
    {
      "cell_type": "code",
      "source": [
        "l.remove(1000)"
      ],
      "metadata": {
        "id": "D-yFgwlyrU9L"
      },
      "execution_count": null,
      "outputs": []
    },
    {
      "cell_type": "code",
      "source": [
        "l"
      ],
      "metadata": {
        "colab": {
          "base_uri": "https://localhost:8080/"
        },
        "id": "pm4JdyrRrX9k",
        "outputId": "d641e89f-7f65-4ea7-b297-dfdf925e18fa"
      },
      "execution_count": null,
      "outputs": [
        {
          "output_type": "execute_result",
          "data": {
            "text/plain": [
              "[100, 4, 6, 7, 9, 10, 11, 1000, 200]"
            ]
          },
          "metadata": {},
          "execution_count": 29
        }
      ]
    },
    {
      "cell_type": "code",
      "source": [
        "l.pop(3)"
      ],
      "metadata": {
        "colab": {
          "base_uri": "https://localhost:8080/"
        },
        "id": "SRnZkuDUrgaI",
        "outputId": "2845c62a-f14f-46b2-f0bc-7c5b45b14aed"
      },
      "execution_count": null,
      "outputs": [
        {
          "output_type": "execute_result",
          "data": {
            "text/plain": [
              "7"
            ]
          },
          "metadata": {},
          "execution_count": 31
        }
      ]
    },
    {
      "cell_type": "code",
      "source": [
        "# START = 0\n",
        "# END = -1\n",
        "# STEP 1\n",
        "for item in l:\n",
        "  print(item)"
      ],
      "metadata": {
        "colab": {
          "base_uri": "https://localhost:8080/"
        },
        "id": "wB79EVwcrxwK",
        "outputId": "593e5e30-859a-4601-f12b-3ab9d4193815"
      },
      "execution_count": null,
      "outputs": [
        {
          "output_type": "stream",
          "name": "stdout",
          "text": [
            "100\n",
            "4\n",
            "6\n",
            "9\n",
            "10\n",
            "11\n",
            "1000\n",
            "200\n"
          ]
        }
      ]
    },
    {
      "cell_type": "code",
      "source": [
        "# STEP 1\n",
        "for xyz in l[1:-1]:\n",
        "  print(xyz)"
      ],
      "metadata": {
        "colab": {
          "base_uri": "https://localhost:8080/"
        },
        "id": "EBJ5J6AutRFX",
        "outputId": "f985cdd2-62a8-42d8-d0b8-62307e058deb"
      },
      "execution_count": null,
      "outputs": [
        {
          "output_type": "stream",
          "name": "stdout",
          "text": [
            "4\n",
            "6\n",
            "9\n",
            "10\n",
            "11\n",
            "1000\n"
          ]
        }
      ]
    },
    {
      "cell_type": "code",
      "source": [
        "temp_t = l[1:-1]"
      ],
      "metadata": {
        "id": "KSIH2v2YtwFa"
      },
      "execution_count": null,
      "outputs": []
    },
    {
      "cell_type": "code",
      "source": [
        "temp_t"
      ],
      "metadata": {
        "colab": {
          "base_uri": "https://localhost:8080/"
        },
        "id": "n0Z57R-Jt1IK",
        "outputId": "fab75e12-7b38-47c7-c109-76d591b92ab1"
      },
      "execution_count": null,
      "outputs": [
        {
          "output_type": "execute_result",
          "data": {
            "text/plain": [
              "[4, 6, 9, 10, 11, 1000]"
            ]
          },
          "metadata": {},
          "execution_count": 38
        }
      ]
    },
    {
      "cell_type": "code",
      "source": [
        "# STEP 1\n",
        "for xyz in temp_t:\n",
        "  print(xyz)"
      ],
      "metadata": {
        "colab": {
          "base_uri": "https://localhost:8080/"
        },
        "id": "NDYCS3dSt6MR",
        "outputId": "6c28ace5-44b5-403a-fd85-3c8ee4456985"
      },
      "execution_count": null,
      "outputs": [
        {
          "output_type": "stream",
          "name": "stdout",
          "text": [
            "4\n",
            "6\n",
            "9\n",
            "10\n",
            "11\n",
            "1000\n"
          ]
        }
      ]
    },
    {
      "cell_type": "code",
      "source": [
        "len(temp_t)"
      ],
      "metadata": {
        "colab": {
          "base_uri": "https://localhost:8080/"
        },
        "id": "Fb9y4zvquH9n",
        "outputId": "b34353a5-5c4b-43d2-9554-0e6a197415fb"
      },
      "execution_count": null,
      "outputs": [
        {
          "output_type": "execute_result",
          "data": {
            "text/plain": [
              "6"
            ]
          },
          "metadata": {},
          "execution_count": 42
        }
      ]
    },
    {
      "cell_type": "code",
      "source": [
        "for idx in range(0, len(l[1:-1]), 2):\n",
        "  print(l[1:-1][idx])"
      ],
      "metadata": {
        "colab": {
          "base_uri": "https://localhost:8080/"
        },
        "id": "BVnxJv0muuLf",
        "outputId": "705f36a7-7744-4bd8-d853-6b9cbc0bcf94"
      },
      "execution_count": null,
      "outputs": [
        {
          "output_type": "stream",
          "name": "stdout",
          "text": [
            "4\n",
            "9\n",
            "11\n"
          ]
        }
      ]
    },
    {
      "cell_type": "code",
      "source": [
        "for item in l:\n",
        "  if item == 11:\n",
        "    break\n",
        "  else:\n",
        "    print(item)"
      ],
      "metadata": {
        "colab": {
          "base_uri": "https://localhost:8080/"
        },
        "id": "bdfOaAMtwP_I",
        "outputId": "f7f743ed-0756-4862-a77c-a9db9eb5603d"
      },
      "execution_count": null,
      "outputs": [
        {
          "output_type": "stream",
          "name": "stdout",
          "text": [
            "100\n",
            "4\n",
            "6\n",
            "9\n",
            "10\n"
          ]
        }
      ]
    },
    {
      "cell_type": "code",
      "source": [
        "for idx in range(0, len(l[1:-1]), 2):\n",
        "  if not idx < 4:        # idx >= 4\n",
        "    print(l[1:-1][idx])\n",
        "  else:\n",
        "    print(\"NA\")"
      ],
      "metadata": {
        "colab": {
          "base_uri": "https://localhost:8080/"
        },
        "id": "5cyn9hO6w6kA",
        "outputId": "a5a720aa-77c3-4b55-ec84-bee0678b070d"
      },
      "execution_count": null,
      "outputs": [
        {
          "output_type": "stream",
          "name": "stdout",
          "text": [
            "NA\n",
            "NA\n",
            "11\n"
          ]
        }
      ]
    },
    {
      "cell_type": "code",
      "source": [
        "l1 = [\"Shivangi\", \"Biswa\", \"Hari\"]\n",
        "l2 = [200, 300, 400]"
      ],
      "metadata": {
        "id": "9gfgX6z-ykz-"
      },
      "execution_count": null,
      "outputs": []
    },
    {
      "cell_type": "code",
      "source": [
        "l1"
      ],
      "metadata": {
        "colab": {
          "base_uri": "https://localhost:8080/"
        },
        "id": "XGjI8g-DyweF",
        "outputId": "1baeb4b4-ee6d-41c7-a6c9-7ba8d6f5f112"
      },
      "execution_count": null,
      "outputs": [
        {
          "output_type": "execute_result",
          "data": {
            "text/plain": [
              "['Shivangi', 'Biswa', 'Hari']"
            ]
          },
          "metadata": {},
          "execution_count": 63
        }
      ]
    },
    {
      "cell_type": "code",
      "source": [
        "l2"
      ],
      "metadata": {
        "colab": {
          "base_uri": "https://localhost:8080/"
        },
        "id": "04yS_qXByyht",
        "outputId": "d81c729a-30bb-4ea9-bf80-70467f27c7b6"
      },
      "execution_count": null,
      "outputs": [
        {
          "output_type": "execute_result",
          "data": {
            "text/plain": [
              "[200, 300, 400]"
            ]
          },
          "metadata": {},
          "execution_count": 64
        }
      ]
    },
    {
      "cell_type": "code",
      "source": [
        "l2.extend(l1)"
      ],
      "metadata": {
        "id": "eA5I34HmzEbs"
      },
      "execution_count": null,
      "outputs": []
    },
    {
      "cell_type": "code",
      "source": [
        "l1"
      ],
      "metadata": {
        "colab": {
          "base_uri": "https://localhost:8080/"
        },
        "id": "zUov3j92zN89",
        "outputId": "72793204-d9c6-44a8-9ffd-faacf654ef46"
      },
      "execution_count": null,
      "outputs": [
        {
          "output_type": "execute_result",
          "data": {
            "text/plain": [
              "['Shivangi', 'Biswa', 'Hari']"
            ]
          },
          "metadata": {},
          "execution_count": 66
        }
      ]
    },
    {
      "cell_type": "code",
      "source": [
        "l2"
      ],
      "metadata": {
        "colab": {
          "base_uri": "https://localhost:8080/"
        },
        "id": "huZBJjUezQkN",
        "outputId": "ed386c8e-1614-4571-d585-9c5e4697ed14"
      },
      "execution_count": null,
      "outputs": [
        {
          "output_type": "execute_result",
          "data": {
            "text/plain": [
              "[200, 300, 400, 'Shivangi', 'Biswa', 'Hari']"
            ]
          },
          "metadata": {},
          "execution_count": 67
        }
      ]
    },
    {
      "cell_type": "code",
      "source": [
        "x = \"ABKCDEFGH\"\n",
        "\n",
        "def increment(s):\n",
        "  s = x[s + 1]\n",
        "  if ord(s) < ord('D'):\n",
        "    return 1\n",
        "  else:\n",
        "    return 2"
      ],
      "metadata": {
        "id": "oy6u8XARo3oA"
      },
      "execution_count": null,
      "outputs": []
    },
    {
      "cell_type": "code",
      "source": [
        "s = 0 # START\n",
        "\n",
        "while s < 10: # END CONDITION\n",
        "  print(s)\n",
        "  s = s + 1"
      ],
      "metadata": {
        "colab": {
          "base_uri": "https://localhost:8080/"
        },
        "id": "yP1KIsT4pfWn",
        "outputId": "96dc8233-9df9-4617-a3f3-67bf0bfb2a12"
      },
      "execution_count": null,
      "outputs": [
        {
          "output_type": "stream",
          "name": "stdout",
          "text": [
            "0\n",
            "1\n",
            "2\n",
            "3\n",
            "4\n",
            "5\n",
            "6\n",
            "7\n",
            "8\n",
            "9\n"
          ]
        }
      ]
    },
    {
      "cell_type": "code",
      "source": [
        "for N in [3, 46, 12, 13, 9, 67]:\n",
        "  p = 0\n",
        "  print(f\"N = {N}\")\n",
        "  print(f\"p = {p}\")\n",
        "  print(f\"Looping from [2 - {N//2}]\")\n",
        "  for n in range(2, N//2 + 1, 1):\n",
        "    if N % n == 0:\n",
        "      p = 1\n",
        "      print(f\"{N} divisible by {n} exiting ...\")\n",
        "      break\n",
        "    else:\n",
        "      print(f\"{N} not divisible by {n} continuing ...\")\n",
        "  print(f\"p = {p}\")\n",
        "  if p == 0:\n",
        "    print(f\"{N} is prime number\")\n",
        "  else:\n",
        "    print(f\"{N} is composite number\")"
      ],
      "metadata": {
        "colab": {
          "base_uri": "https://localhost:8080/"
        },
        "id": "YDWlPq4LxjGC",
        "outputId": "20ed00c5-13ef-43be-89e8-8be2f4ca0746"
      },
      "execution_count": null,
      "outputs": [
        {
          "output_type": "stream",
          "name": "stdout",
          "text": [
            "N = 3\n",
            "p = 0\n",
            "Looping from [2 - 1]\n",
            "p = 0\n",
            "3 is prime number\n",
            "N = 46\n",
            "p = 0\n",
            "Looping from [2 - 23]\n",
            "46 divisible by 2 exiting ...\n",
            "p = 1\n",
            "46 is composite number\n",
            "N = 12\n",
            "p = 0\n",
            "Looping from [2 - 6]\n",
            "12 divisible by 2 exiting ...\n",
            "p = 1\n",
            "12 is composite number\n",
            "N = 13\n",
            "p = 0\n",
            "Looping from [2 - 6]\n",
            "13 not divisible by 2 continuing ...\n",
            "13 not divisible by 3 continuing ...\n",
            "13 not divisible by 4 continuing ...\n",
            "13 not divisible by 5 continuing ...\n",
            "13 not divisible by 6 continuing ...\n",
            "p = 0\n",
            "13 is prime number\n",
            "N = 9\n",
            "p = 0\n",
            "Looping from [2 - 4]\n",
            "9 not divisible by 2 continuing ...\n",
            "9 divisible by 3 exiting ...\n",
            "p = 1\n",
            "9 is composite number\n",
            "N = 67\n",
            "p = 0\n",
            "Looping from [2 - 33]\n",
            "67 not divisible by 2 continuing ...\n",
            "67 not divisible by 3 continuing ...\n",
            "67 not divisible by 4 continuing ...\n",
            "67 not divisible by 5 continuing ...\n",
            "67 not divisible by 6 continuing ...\n",
            "67 not divisible by 7 continuing ...\n",
            "67 not divisible by 8 continuing ...\n",
            "67 not divisible by 9 continuing ...\n",
            "67 not divisible by 10 continuing ...\n",
            "67 not divisible by 11 continuing ...\n",
            "67 not divisible by 12 continuing ...\n",
            "67 not divisible by 13 continuing ...\n",
            "67 not divisible by 14 continuing ...\n",
            "67 not divisible by 15 continuing ...\n",
            "67 not divisible by 16 continuing ...\n",
            "67 not divisible by 17 continuing ...\n",
            "67 not divisible by 18 continuing ...\n",
            "67 not divisible by 19 continuing ...\n",
            "67 not divisible by 20 continuing ...\n",
            "67 not divisible by 21 continuing ...\n",
            "67 not divisible by 22 continuing ...\n",
            "67 not divisible by 23 continuing ...\n",
            "67 not divisible by 24 continuing ...\n",
            "67 not divisible by 25 continuing ...\n",
            "67 not divisible by 26 continuing ...\n",
            "67 not divisible by 27 continuing ...\n",
            "67 not divisible by 28 continuing ...\n",
            "67 not divisible by 29 continuing ...\n",
            "67 not divisible by 30 continuing ...\n",
            "67 not divisible by 31 continuing ...\n",
            "67 not divisible by 32 continuing ...\n",
            "67 not divisible by 33 continuing ...\n",
            "p = 0\n",
            "67 is prime number\n"
          ]
        }
      ]
    },
    {
      "cell_type": "code",
      "source": [
        "import time"
      ],
      "metadata": {
        "id": "O9tuz9YE79pJ"
      },
      "execution_count": null,
      "outputs": []
    },
    {
      "cell_type": "code",
      "source": [
        "start_time = time.time_ns()\n",
        "a = {\"Ram\": 12324, \"Hari\": 88909}\n",
        "end_time = time.time_ns()\n",
        "diff_ns = end_time - start_time\n",
        "diff_ns"
      ],
      "metadata": {
        "colab": {
          "base_uri": "https://localhost:8080/"
        },
        "id": "gow1_0EB7zxS",
        "outputId": "edd202e8-6108-48ae-e87c-b1b000c36a54"
      },
      "execution_count": null,
      "outputs": [
        {
          "output_type": "execute_result",
          "data": {
            "text/plain": [
              "114351"
            ]
          },
          "metadata": {},
          "execution_count": 5
        }
      ]
    },
    {
      "cell_type": "code",
      "source": [
        "def init_variable(p, v):\n",
        "  p = v\n",
        "  return p"
      ],
      "metadata": {
        "id": "BGuv9R6KDXnT"
      },
      "execution_count": null,
      "outputs": []
    },
    {
      "cell_type": "code",
      "source": [
        "x = 1\n",
        "x = init_variable(x, 100)\n",
        "x"
      ],
      "metadata": {
        "colab": {
          "base_uri": "https://localhost:8080/"
        },
        "id": "43DKCVSkDiRO",
        "outputId": "319f7510-df9f-4e66-a569-35ae58dbfb56"
      },
      "execution_count": null,
      "outputs": [
        {
          "output_type": "execute_result",
          "data": {
            "text/plain": [
              "100"
            ]
          },
          "metadata": {},
          "execution_count": 8
        }
      ]
    },
    {
      "cell_type": "code",
      "source": [
        "x = 100\n",
        "x"
      ],
      "metadata": {
        "colab": {
          "base_uri": "https://localhost:8080/"
        },
        "id": "6bYWCDbrDuOA",
        "outputId": "3601e165-dd33-45f8-c1c2-701b0c9e8c52"
      },
      "execution_count": null,
      "outputs": [
        {
          "output_type": "execute_result",
          "data": {
            "text/plain": [
              "100"
            ]
          },
          "metadata": {},
          "execution_count": 9
        }
      ]
    },
    {
      "cell_type": "code",
      "source": [
        "def is_prime(N):\n",
        "  p = 0\n",
        "  for n in range(2, N//2 + 1, 1):\n",
        "    if N % n == 0:\n",
        "      p = 1\n",
        "      break\n",
        "  if p == 0:\n",
        "    return True\n",
        "  else:\n",
        "    return False"
      ],
      "metadata": {
        "id": "2fdctiXtEJyy"
      },
      "execution_count": null,
      "outputs": []
    },
    {
      "cell_type": "code",
      "source": [
        "p = 0\n",
        "for n in range(2, 17//2 + 1, 1):\n",
        "  if N % n == 0:\n",
        "    p = 1\n",
        "    break\n",
        "if p == 0:\n",
        "  print(True)\n",
        "else:\n",
        "  print(False)"
      ],
      "metadata": {
        "colab": {
          "base_uri": "https://localhost:8080/"
        },
        "id": "EUmEK7qaEStc",
        "outputId": "55262c8f-bd32-46de-c09e-1eeaebf4839b"
      },
      "execution_count": null,
      "outputs": [
        {
          "output_type": "stream",
          "name": "stdout",
          "text": [
            "True\n"
          ]
        }
      ]
    },
    {
      "cell_type": "code",
      "source": [
        "p = 0\n",
        "for n in range(2, 36//2 + 1, 1):\n",
        "  if N % n == 0:\n",
        "    p = 1\n",
        "    break\n",
        "if p == 0:\n",
        "  print(True)\n",
        "else:\n",
        "  print(False)"
      ],
      "metadata": {
        "colab": {
          "base_uri": "https://localhost:8080/"
        },
        "id": "wSq04cMkEeGS",
        "outputId": "c1f96956-cf50-4f0e-f9ec-ea77474b11bb"
      },
      "execution_count": null,
      "outputs": [
        {
          "output_type": "stream",
          "name": "stdout",
          "text": [
            "True\n"
          ]
        }
      ]
    },
    {
      "cell_type": "code",
      "source": [
        "s1\n",
        "s2\n",
        "s3\n",
        "...\n",
        "...\n",
        "print(is_prime(17))\n",
        "s4\n",
        "s5\n",
        "...\n",
        "...\n",
        "print(is_prime(18))"
      ],
      "metadata": {
        "id": "IuH_IzaQES0P"
      },
      "execution_count": null,
      "outputs": []
    },
    {
      "cell_type": "code",
      "source": [
        "import torch"
      ],
      "metadata": {
        "id": "cJsNiHZpUHie"
      },
      "execution_count": null,
      "outputs": []
    },
    {
      "cell_type": "code",
      "source": [
        "df = pandas.Dataframe()"
      ],
      "metadata": {
        "id": "uDY8-8aNFfkL",
        "colab": {
          "base_uri": "https://localhost:8080/",
          "height": 165
        },
        "outputId": "ef639a5b-4385-4a36-c627-5e1554b0cac3"
      },
      "execution_count": null,
      "outputs": [
        {
          "output_type": "error",
          "ename": "NameError",
          "evalue": "ignored",
          "traceback": [
            "\u001b[0;31m---------------------------------------------------------------------------\u001b[0m",
            "\u001b[0;31mNameError\u001b[0m                                 Traceback (most recent call last)",
            "\u001b[0;32m<ipython-input-1-fb616356e313>\u001b[0m in \u001b[0;36m<module>\u001b[0;34m\u001b[0m\n\u001b[0;32m----> 1\u001b[0;31m \u001b[0mdf\u001b[0m \u001b[0;34m=\u001b[0m \u001b[0mpandas\u001b[0m\u001b[0;34m.\u001b[0m\u001b[0mDataframe\u001b[0m\u001b[0;34m(\u001b[0m\u001b[0;34m)\u001b[0m\u001b[0;34m\u001b[0m\u001b[0;34m\u001b[0m\u001b[0m\n\u001b[0m",
            "\u001b[0;31mNameError\u001b[0m: name 'pandas' is not defined"
          ]
        }
      ]
    },
    {
      "cell_type": "code",
      "source": [
        "import numpy as np\n",
        "import pandas as pd\n",
        "import seaborn as sns\n",
        "import matplotlib.pyplot as plt\n"
      ],
      "metadata": {
        "id": "hE6qhscxfSpP"
      },
      "execution_count": null,
      "outputs": []
    },
    {
      "cell_type": "code",
      "source": [],
      "metadata": {
        "id": "GbG34WD2WKIX"
      },
      "execution_count": null,
      "outputs": []
    }
  ]
}